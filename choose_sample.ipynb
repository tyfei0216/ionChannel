{
 "cells": [
  {
   "cell_type": "code",
   "execution_count": 9,
   "metadata": {},
   "outputs": [],
   "source": [
    "import numpy as np \n",
    "import random \n",
    "import pandas as pd\n",
    "from sklearn.metrics.pairwise import pairwise_distances\n",
    "import os \n",
    "import json \n",
    "import trainUtils\n",
    "import torch\n",
    "import testUtils \n",
    "from torch.utils.data import DataLoader"
   ]
  },
  {
   "cell_type": "code",
   "execution_count": 2,
   "metadata": {},
   "outputs": [],
   "source": [
    "def pick_sample(distance_matrix, num, weight, dis_weight, use_random=True, random_seed=1013):\n",
    "    if use_random:\n",
    "        random.seed(random_seed)\n",
    "        np.random.seed(random_seed)\n",
    "    picked = [] \n",
    "    for i in range(num):\n",
    "        q = np.zeros_like(distance_matrix[0])\n",
    "        for j in picked:\n",
    "            q += distance_matrix[j] \n",
    "        q /= len(picked)+0.001 \n",
    "        pick_weight = weight+q*dis_weight \n",
    "        pick_weight[picked] = 0\n",
    "        if use_random:\n",
    "            pick_weight = pick_weight/np.sum(pick_weight)\n",
    "            picked.append(np.random.choice(len(pick_weight), p=pick_weight))\n",
    "        else:\n",
    "            picked.append(np.argmax(pick_weight))\n",
    "    return picked"
   ]
  },
  {
   "cell_type": "code",
   "execution_count": 4,
   "metadata": {},
   "outputs": [
    {
     "name": "stdout",
     "output_type": "stream",
     "text": [
      "initized model for base_learning stage\n"
     ]
    },
    {
     "name": "stderr",
     "output_type": "stream",
     "text": [
      "/home/tyfei/anaconda3/envs/esm3/lib/python3.10/site-packages/torchmetrics/utilities/prints.py:43: UserWarning: Metric `SpearmanCorrcoef` will save all targets and predictions in the buffer. For large datasets, this may lead to large memory footprint.\n",
      "  warnings.warn(*args, **kwargs)  # noqa: B028\n"
     ]
    }
   ],
   "source": [
    "path = \"/data2/tyfei/trainresults/ionChannels/ESMCFinal/logit2/\"\n",
    "with open(os.path.join(path, \"config.json\"), \"r\") as f:\n",
    "    configs = json.load(f)\n",
    "pretrain_model = trainUtils.loadPretrainModel(configs)\n",
    "model = trainUtils.buildModel(configs, pretrain_model)"
   ]
  },
  {
   "cell_type": "code",
   "execution_count": 8,
   "metadata": {},
   "outputs": [
    {
     "data": {
      "text/plain": [
       "_IncompatibleKeys(missing_keys=['esm_model.embed.weight', 'esm_model.transformer.blocks.0.attn.layernorm_qkv.1.linear.weight', 'esm_model.transformer.blocks.0.attn.out_proj.linear.weight', 'esm_model.transformer.blocks.0.ffn.0.weight', 'esm_model.transformer.blocks.0.ffn.0.bias', 'esm_model.transformer.blocks.0.ffn.1.linear.weight', 'esm_model.transformer.blocks.0.ffn.3.linear.weight', 'esm_model.transformer.blocks.1.attn.layernorm_qkv.1.linear.weight', 'esm_model.transformer.blocks.1.attn.out_proj.linear.weight', 'esm_model.transformer.blocks.1.ffn.0.weight', 'esm_model.transformer.blocks.1.ffn.0.bias', 'esm_model.transformer.blocks.1.ffn.1.linear.weight', 'esm_model.transformer.blocks.1.ffn.3.linear.weight', 'esm_model.transformer.blocks.2.attn.layernorm_qkv.1.linear.weight', 'esm_model.transformer.blocks.2.attn.out_proj.linear.weight', 'esm_model.transformer.blocks.2.ffn.0.weight', 'esm_model.transformer.blocks.2.ffn.0.bias', 'esm_model.transformer.blocks.2.ffn.1.linear.weight', 'esm_model.transformer.blocks.2.ffn.3.linear.weight', 'esm_model.transformer.blocks.3.attn.layernorm_qkv.1.linear.weight', 'esm_model.transformer.blocks.3.attn.out_proj.linear.weight', 'esm_model.transformer.blocks.3.ffn.0.weight', 'esm_model.transformer.blocks.3.ffn.0.bias', 'esm_model.transformer.blocks.3.ffn.1.linear.weight', 'esm_model.transformer.blocks.3.ffn.3.linear.weight', 'esm_model.transformer.blocks.4.attn.layernorm_qkv.1.linear.weight', 'esm_model.transformer.blocks.4.attn.out_proj.linear.weight', 'esm_model.transformer.blocks.4.ffn.0.weight', 'esm_model.transformer.blocks.4.ffn.0.bias', 'esm_model.transformer.blocks.4.ffn.1.linear.weight', 'esm_model.transformer.blocks.4.ffn.3.linear.weight', 'esm_model.transformer.blocks.5.attn.layernorm_qkv.1.linear.weight', 'esm_model.transformer.blocks.5.attn.out_proj.linear.weight', 'esm_model.transformer.blocks.5.ffn.0.weight', 'esm_model.transformer.blocks.5.ffn.0.bias', 'esm_model.transformer.blocks.5.ffn.1.linear.weight', 'esm_model.transformer.blocks.5.ffn.3.linear.weight', 'esm_model.transformer.blocks.6.attn.layernorm_qkv.1.linear.weight', 'esm_model.transformer.blocks.6.attn.out_proj.linear.weight', 'esm_model.transformer.blocks.6.ffn.0.weight', 'esm_model.transformer.blocks.6.ffn.0.bias', 'esm_model.transformer.blocks.6.ffn.1.linear.weight', 'esm_model.transformer.blocks.6.ffn.3.linear.weight', 'esm_model.transformer.blocks.7.attn.layernorm_qkv.1.linear.weight', 'esm_model.transformer.blocks.7.attn.out_proj.linear.weight', 'esm_model.transformer.blocks.7.ffn.0.weight', 'esm_model.transformer.blocks.7.ffn.0.bias', 'esm_model.transformer.blocks.7.ffn.1.linear.weight', 'esm_model.transformer.blocks.7.ffn.3.linear.weight', 'esm_model.transformer.blocks.8.attn.layernorm_qkv.1.linear.weight', 'esm_model.transformer.blocks.8.attn.out_proj.linear.weight', 'esm_model.transformer.blocks.8.ffn.0.weight', 'esm_model.transformer.blocks.8.ffn.0.bias', 'esm_model.transformer.blocks.8.ffn.1.linear.weight', 'esm_model.transformer.blocks.8.ffn.3.linear.weight', 'esm_model.transformer.blocks.9.attn.layernorm_qkv.1.linear.weight', 'esm_model.transformer.blocks.9.attn.out_proj.linear.weight', 'esm_model.transformer.blocks.9.ffn.0.weight', 'esm_model.transformer.blocks.9.ffn.0.bias', 'esm_model.transformer.blocks.9.ffn.1.linear.weight', 'esm_model.transformer.blocks.9.ffn.3.linear.weight', 'esm_model.transformer.blocks.10.attn.layernorm_qkv.1.linear.weight', 'esm_model.transformer.blocks.10.attn.out_proj.linear.weight', 'esm_model.transformer.blocks.10.ffn.0.weight', 'esm_model.transformer.blocks.10.ffn.0.bias', 'esm_model.transformer.blocks.10.ffn.1.linear.weight', 'esm_model.transformer.blocks.10.ffn.3.linear.weight', 'esm_model.transformer.blocks.11.attn.layernorm_qkv.1.linear.weight', 'esm_model.transformer.blocks.11.attn.out_proj.linear.weight', 'esm_model.transformer.blocks.11.ffn.0.weight', 'esm_model.transformer.blocks.11.ffn.0.bias', 'esm_model.transformer.blocks.11.ffn.1.linear.weight', 'esm_model.transformer.blocks.11.ffn.3.linear.weight', 'esm_model.transformer.blocks.12.attn.layernorm_qkv.1.linear.weight', 'esm_model.transformer.blocks.12.attn.out_proj.linear.weight', 'esm_model.transformer.blocks.12.ffn.0.weight', 'esm_model.transformer.blocks.12.ffn.0.bias', 'esm_model.transformer.blocks.12.ffn.1.linear.weight', 'esm_model.transformer.blocks.12.ffn.3.linear.weight', 'esm_model.transformer.blocks.13.attn.layernorm_qkv.1.linear.weight', 'esm_model.transformer.blocks.13.attn.out_proj.linear.weight', 'esm_model.transformer.blocks.13.ffn.0.weight', 'esm_model.transformer.blocks.13.ffn.0.bias', 'esm_model.transformer.blocks.13.ffn.1.linear.weight', 'esm_model.transformer.blocks.13.ffn.3.linear.weight', 'esm_model.transformer.blocks.14.attn.layernorm_qkv.1.linear.weight', 'esm_model.transformer.blocks.14.attn.out_proj.linear.weight', 'esm_model.transformer.blocks.14.ffn.0.weight', 'esm_model.transformer.blocks.14.ffn.0.bias', 'esm_model.transformer.blocks.14.ffn.1.linear.weight', 'esm_model.transformer.blocks.14.ffn.3.linear.weight', 'esm_model.transformer.blocks.15.attn.layernorm_qkv.1.linear.weight', 'esm_model.transformer.blocks.15.attn.out_proj.linear.weight', 'esm_model.transformer.blocks.15.ffn.0.weight', 'esm_model.transformer.blocks.15.ffn.0.bias', 'esm_model.transformer.blocks.15.ffn.1.linear.weight', 'esm_model.transformer.blocks.15.ffn.3.linear.weight', 'esm_model.transformer.blocks.16.attn.layernorm_qkv.1.linear.weight', 'esm_model.transformer.blocks.16.attn.out_proj.linear.weight', 'esm_model.transformer.blocks.16.ffn.0.weight', 'esm_model.transformer.blocks.16.ffn.0.bias', 'esm_model.transformer.blocks.16.ffn.1.linear.weight', 'esm_model.transformer.blocks.16.ffn.3.linear.weight', 'esm_model.transformer.blocks.17.attn.layernorm_qkv.1.linear.weight', 'esm_model.transformer.blocks.17.attn.out_proj.linear.weight', 'esm_model.transformer.blocks.17.ffn.0.weight', 'esm_model.transformer.blocks.17.ffn.0.bias', 'esm_model.transformer.blocks.17.ffn.1.linear.weight', 'esm_model.transformer.blocks.17.ffn.3.linear.weight', 'esm_model.transformer.blocks.18.attn.layernorm_qkv.1.linear.weight', 'esm_model.transformer.blocks.18.attn.out_proj.linear.weight', 'esm_model.transformer.blocks.18.ffn.0.weight', 'esm_model.transformer.blocks.18.ffn.0.bias', 'esm_model.transformer.blocks.18.ffn.1.linear.weight', 'esm_model.transformer.blocks.18.ffn.3.linear.weight', 'esm_model.transformer.blocks.19.attn.layernorm_qkv.1.linear.weight', 'esm_model.transformer.blocks.19.attn.out_proj.linear.weight', 'esm_model.transformer.blocks.19.ffn.0.weight', 'esm_model.transformer.blocks.19.ffn.0.bias', 'esm_model.transformer.blocks.19.ffn.1.linear.weight', 'esm_model.transformer.blocks.19.ffn.3.linear.weight', 'esm_model.transformer.blocks.20.attn.layernorm_qkv.1.linear.weight', 'esm_model.transformer.blocks.20.attn.out_proj.linear.weight', 'esm_model.transformer.blocks.20.ffn.0.weight', 'esm_model.transformer.blocks.20.ffn.0.bias', 'esm_model.transformer.blocks.20.ffn.1.linear.weight', 'esm_model.transformer.blocks.20.ffn.3.linear.weight', 'esm_model.transformer.blocks.21.attn.layernorm_qkv.1.linear.weight', 'esm_model.transformer.blocks.21.attn.out_proj.linear.weight', 'esm_model.transformer.blocks.21.ffn.0.weight', 'esm_model.transformer.blocks.21.ffn.0.bias', 'esm_model.transformer.blocks.21.ffn.1.linear.weight', 'esm_model.transformer.blocks.21.ffn.3.linear.weight', 'esm_model.transformer.blocks.22.attn.layernorm_qkv.1.linear.weight', 'esm_model.transformer.blocks.22.attn.out_proj.linear.weight', 'esm_model.transformer.blocks.22.ffn.0.weight', 'esm_model.transformer.blocks.22.ffn.0.bias', 'esm_model.transformer.blocks.22.ffn.1.linear.weight', 'esm_model.transformer.blocks.22.ffn.3.linear.weight', 'esm_model.transformer.blocks.23.attn.layernorm_qkv.1.linear.weight', 'esm_model.transformer.blocks.23.attn.out_proj.linear.weight', 'esm_model.transformer.blocks.23.ffn.0.weight', 'esm_model.transformer.blocks.23.ffn.0.bias', 'esm_model.transformer.blocks.23.ffn.1.linear.weight', 'esm_model.transformer.blocks.23.ffn.3.linear.weight', 'esm_model.transformer.blocks.24.attn.layernorm_qkv.1.linear.weight', 'esm_model.transformer.blocks.24.attn.out_proj.linear.weight', 'esm_model.transformer.blocks.24.ffn.0.weight', 'esm_model.transformer.blocks.24.ffn.0.bias', 'esm_model.transformer.blocks.24.ffn.1.linear.weight', 'esm_model.transformer.blocks.24.ffn.3.linear.weight', 'esm_model.transformer.blocks.25.attn.layernorm_qkv.1.linear.weight', 'esm_model.transformer.blocks.25.attn.out_proj.linear.weight', 'esm_model.transformer.blocks.25.ffn.0.weight', 'esm_model.transformer.blocks.25.ffn.0.bias', 'esm_model.transformer.blocks.25.ffn.1.linear.weight', 'esm_model.transformer.blocks.25.ffn.3.linear.weight', 'esm_model.transformer.blocks.26.attn.layernorm_qkv.1.linear.weight', 'esm_model.transformer.blocks.26.attn.out_proj.linear.weight', 'esm_model.transformer.blocks.26.ffn.0.weight', 'esm_model.transformer.blocks.26.ffn.0.bias', 'esm_model.transformer.blocks.26.ffn.1.linear.weight', 'esm_model.transformer.blocks.26.ffn.3.linear.weight', 'esm_model.transformer.blocks.27.attn.layernorm_qkv.1.linear.weight', 'esm_model.transformer.blocks.27.attn.out_proj.linear.weight', 'esm_model.transformer.blocks.27.ffn.0.weight', 'esm_model.transformer.blocks.27.ffn.0.bias', 'esm_model.transformer.blocks.27.ffn.1.linear.weight', 'esm_model.transformer.blocks.27.ffn.3.linear.weight', 'esm_model.transformer.blocks.28.attn.layernorm_qkv.1.linear.weight', 'esm_model.transformer.blocks.28.attn.out_proj.linear.weight', 'esm_model.transformer.blocks.28.ffn.0.weight', 'esm_model.transformer.blocks.28.ffn.0.bias', 'esm_model.transformer.blocks.28.ffn.1.linear.weight', 'esm_model.transformer.blocks.28.ffn.3.linear.weight', 'esm_model.transformer.blocks.29.attn.layernorm_qkv.1.linear.weight', 'esm_model.transformer.blocks.29.attn.out_proj.linear.weight', 'esm_model.transformer.blocks.29.ffn.0.weight', 'esm_model.transformer.blocks.29.ffn.0.bias', 'esm_model.transformer.blocks.29.ffn.1.linear.weight', 'esm_model.transformer.blocks.29.ffn.3.linear.weight', 'esm_model.transformer.blocks.30.attn.layernorm_qkv.1.linear.weight', 'esm_model.transformer.blocks.30.attn.out_proj.linear.weight', 'esm_model.transformer.blocks.30.ffn.0.weight', 'esm_model.transformer.blocks.30.ffn.0.bias', 'esm_model.transformer.blocks.30.ffn.1.linear.weight', 'esm_model.transformer.blocks.30.ffn.3.linear.weight', 'esm_model.transformer.blocks.31.attn.layernorm_qkv.1.linear.weight', 'esm_model.transformer.blocks.31.attn.out_proj.linear.weight', 'esm_model.transformer.blocks.31.ffn.0.weight', 'esm_model.transformer.blocks.31.ffn.0.bias', 'esm_model.transformer.blocks.31.ffn.1.linear.weight', 'esm_model.transformer.blocks.31.ffn.3.linear.weight', 'esm_model.transformer.blocks.32.attn.layernorm_qkv.1.linear.weight', 'esm_model.transformer.blocks.32.attn.out_proj.linear.weight', 'esm_model.transformer.blocks.32.ffn.0.weight', 'esm_model.transformer.blocks.32.ffn.0.bias', 'esm_model.transformer.blocks.32.ffn.1.linear.weight', 'esm_model.transformer.blocks.32.ffn.3.linear.weight', 'esm_model.transformer.blocks.33.attn.layernorm_qkv.1.linear.weight', 'esm_model.transformer.blocks.33.attn.out_proj.linear.weight', 'esm_model.transformer.blocks.33.ffn.0.weight', 'esm_model.transformer.blocks.33.ffn.0.bias', 'esm_model.transformer.blocks.33.ffn.1.linear.weight', 'esm_model.transformer.blocks.33.ffn.3.linear.weight', 'esm_model.transformer.blocks.34.attn.layernorm_qkv.1.linear.weight', 'esm_model.transformer.blocks.34.attn.out_proj.linear.weight', 'esm_model.transformer.blocks.34.ffn.0.weight', 'esm_model.transformer.blocks.34.ffn.0.bias', 'esm_model.transformer.blocks.34.ffn.1.linear.weight', 'esm_model.transformer.blocks.34.ffn.3.linear.weight', 'esm_model.transformer.blocks.35.attn.layernorm_qkv.1.linear.weight', 'esm_model.transformer.blocks.35.attn.out_proj.linear.weight', 'esm_model.transformer.blocks.35.ffn.0.weight', 'esm_model.transformer.blocks.35.ffn.0.bias', 'esm_model.transformer.blocks.35.ffn.1.linear.weight', 'esm_model.transformer.blocks.35.ffn.3.linear.weight'], unexpected_keys=[])"
      ]
     },
     "execution_count": 8,
     "metadata": {},
     "output_type": "execute_result"
    }
   ],
   "source": [
    "ckpt = torch.load(\"/data2/tyfei/trainresults/ionChannels/ESMCFinal/logit2/last.ckpt\")\n",
    "model.load_state_dict(ckpt['state_dict'], strict=False)"
   ]
  },
  {
   "cell_type": "code",
   "execution_count": 10,
   "metadata": {},
   "outputs": [
    {
     "name": "stderr",
     "output_type": "stream",
     "text": [
      "100%|██████████| 885/885 [01:35<00:00,  9.26it/s]\n"
     ]
    }
   ],
   "source": [
    "import VirusDataset\n",
    "test = trainUtils.loadPickle(\"/data/tyfei/datasets/ion_channel/Interprot/test885.pkl\")\n",
    "test_set = VirusDataset.ESM3MultiTrackDatasetTEST(test, tracks=[\"seq_t\"]) \n",
    "dl = DataLoader(test_set, batch_size=1, shuffle=False) \n",
    "embed2, _ = testUtils.getEmbeddings(pretrain_model, dl, 6, 300000, \"esmc\", \"mean\")"
   ]
  },
  {
   "cell_type": "code",
   "execution_count": 11,
   "metadata": {},
   "outputs": [
    {
     "name": "stdout",
     "output_type": "stream",
     "text": [
      "(885, 1152)\n"
     ]
    }
   ],
   "source": [
    "q = np.array(embed2)\n",
    "q = q.squeeze()\n",
    "print(q.shape)"
   ]
  },
  {
   "cell_type": "code",
   "execution_count": 12,
   "metadata": {},
   "outputs": [
    {
     "data": {
      "text/html": [
       "<div>\n",
       "<style scoped>\n",
       "    .dataframe tbody tr th:only-of-type {\n",
       "        vertical-align: middle;\n",
       "    }\n",
       "\n",
       "    .dataframe tbody tr th {\n",
       "        vertical-align: top;\n",
       "    }\n",
       "\n",
       "    .dataframe thead th {\n",
       "        text-align: right;\n",
       "    }\n",
       "</style>\n",
       "<table border=\"1\" class=\"dataframe\">\n",
       "  <thead>\n",
       "    <tr style=\"text-align: right;\">\n",
       "      <th></th>\n",
       "      <th>predict</th>\n",
       "      <th>ER</th>\n",
       "      <th>CA</th>\n",
       "      <th>id</th>\n",
       "    </tr>\n",
       "  </thead>\n",
       "  <tbody>\n",
       "    <tr>\n",
       "      <th>0</th>\n",
       "      <td>0.168520</td>\n",
       "      <td>0.245961</td>\n",
       "      <td>0.718966</td>\n",
       "      <td>0</td>\n",
       "    </tr>\n",
       "    <tr>\n",
       "      <th>1</th>\n",
       "      <td>0.224602</td>\n",
       "      <td>0.839389</td>\n",
       "      <td>0.750200</td>\n",
       "      <td>1</td>\n",
       "    </tr>\n",
       "    <tr>\n",
       "      <th>2</th>\n",
       "      <td>0.655674</td>\n",
       "      <td>0.258202</td>\n",
       "      <td>0.468684</td>\n",
       "      <td>2</td>\n",
       "    </tr>\n",
       "    <tr>\n",
       "      <th>3</th>\n",
       "      <td>0.464760</td>\n",
       "      <td>0.526605</td>\n",
       "      <td>0.238183</td>\n",
       "      <td>3</td>\n",
       "    </tr>\n",
       "    <tr>\n",
       "      <th>4</th>\n",
       "      <td>0.140256</td>\n",
       "      <td>0.881562</td>\n",
       "      <td>0.170585</td>\n",
       "      <td>4</td>\n",
       "    </tr>\n",
       "  </tbody>\n",
       "</table>\n",
       "</div>"
      ],
      "text/plain": [
       "    predict        ER        CA  id\n",
       "0  0.168520  0.245961  0.718966   0\n",
       "1  0.224602  0.839389  0.750200   1\n",
       "2  0.655674  0.258202  0.468684   2\n",
       "3  0.464760  0.526605  0.238183   3\n",
       "4  0.140256  0.881562  0.170585   4"
      ]
     },
     "execution_count": 12,
     "metadata": {},
     "output_type": "execute_result"
    }
   ],
   "source": [
    "#prepare dataframe \n",
    "df = pd.DataFrame({\"predict\":np.random.uniform(0, 1, 885), \"ER\":np.random.uniform(0, 1, 885), \"CA\":np.random.uniform(0, 1, 885), \"id\":range(885)})\n",
    "df.head()"
   ]
  },
  {
   "cell_type": "code",
   "execution_count": 14,
   "metadata": {},
   "outputs": [
    {
     "data": {
      "text/html": [
       "<div>\n",
       "<style scoped>\n",
       "    .dataframe tbody tr th:only-of-type {\n",
       "        vertical-align: middle;\n",
       "    }\n",
       "\n",
       "    .dataframe tbody tr th {\n",
       "        vertical-align: top;\n",
       "    }\n",
       "\n",
       "    .dataframe thead th {\n",
       "        text-align: right;\n",
       "    }\n",
       "</style>\n",
       "<table border=\"1\" class=\"dataframe\">\n",
       "  <thead>\n",
       "    <tr style=\"text-align: right;\">\n",
       "      <th></th>\n",
       "      <th>predict</th>\n",
       "      <th>ER</th>\n",
       "      <th>CA</th>\n",
       "      <th>id</th>\n",
       "      <th>weight</th>\n",
       "    </tr>\n",
       "  </thead>\n",
       "  <tbody>\n",
       "    <tr>\n",
       "      <th>291</th>\n",
       "      <td>0.005510</td>\n",
       "      <td>0.154590</td>\n",
       "      <td>0.948633</td>\n",
       "      <td>291</td>\n",
       "      <td>1.315508</td>\n",
       "    </tr>\n",
       "    <tr>\n",
       "      <th>604</th>\n",
       "      <td>0.006572</td>\n",
       "      <td>0.559203</td>\n",
       "      <td>0.375007</td>\n",
       "      <td>604</td>\n",
       "      <td>1.224343</td>\n",
       "    </tr>\n",
       "    <tr>\n",
       "      <th>804</th>\n",
       "      <td>0.007380</td>\n",
       "      <td>0.300001</td>\n",
       "      <td>0.627633</td>\n",
       "      <td>804</td>\n",
       "      <td>1.248290</td>\n",
       "    </tr>\n",
       "    <tr>\n",
       "      <th>578</th>\n",
       "      <td>0.013698</td>\n",
       "      <td>0.030708</td>\n",
       "      <td>0.360003</td>\n",
       "      <td>578</td>\n",
       "      <td>1.114143</td>\n",
       "    </tr>\n",
       "    <tr>\n",
       "      <th>72</th>\n",
       "      <td>0.015034</td>\n",
       "      <td>0.012941</td>\n",
       "      <td>0.378243</td>\n",
       "      <td>72</td>\n",
       "      <td>1.116061</td>\n",
       "    </tr>\n",
       "  </tbody>\n",
       "</table>\n",
       "</div>"
      ],
      "text/plain": [
       "      predict        ER        CA   id    weight\n",
       "291  0.005510  0.154590  0.948633  291  1.315508\n",
       "604  0.006572  0.559203  0.375007  604  1.224343\n",
       "804  0.007380  0.300001  0.627633  804  1.248290\n",
       "578  0.013698  0.030708  0.360003  578  1.114143\n",
       "72   0.015034  0.012941  0.378243   72  1.116061"
      ]
     },
     "execution_count": 14,
     "metadata": {},
     "output_type": "execute_result"
    }
   ],
   "source": [
    "df = df.sort_values(\"predict\")\n",
    "df[\"weight\"] = 1 + df[\"ER\"]*0.2+df[\"CA\"]*0.3\n",
    "df.head()"
   ]
  },
  {
   "cell_type": "code",
   "execution_count": 26,
   "metadata": {},
   "outputs": [],
   "source": [
    "se = [0, 110, 220, 330, 440, 550, 660, 770, 888]\n",
    "pick_num = [8, 8, 8, 8, 8, 8, 8, 8]\n",
    "all_picked = []\n",
    "for i in range(8):\n",
    "    subdf = df.iloc[se[i]:se[i+1]] \n",
    "    embeds = q[subdf[\"id\"].values] \n",
    "    distance_matrix = pairwise_distances(embeds, metric=\"euclidean\")\n",
    "    picked = pick_sample(distance_matrix, pick_num[i], subdf[\"weight\"].values, 0.5)\n",
    "    p = subdf.iloc[picked]\n",
    "    all_picked.extend(p[\"id\"].values)"
   ]
  },
  {
   "cell_type": "code",
   "execution_count": 27,
   "metadata": {},
   "outputs": [
    {
     "data": {
      "text/plain": [
       "64"
      ]
     },
     "execution_count": 27,
     "metadata": {},
     "output_type": "execute_result"
    }
   ],
   "source": [
    "len(all_picked)"
   ]
  },
  {
   "cell_type": "code",
   "execution_count": 25,
   "metadata": {},
   "outputs": [
    {
     "data": {
      "text/plain": [
       "array([[0.        , 0.44032705, 0.6662917 , ..., 0.5475367 , 0.7406728 ,\n",
       "        0.7203726 ],\n",
       "       [0.44032705, 0.        , 0.59878606, ..., 0.7082523 , 0.5878906 ,\n",
       "        0.8197343 ],\n",
       "       [0.6662917 , 0.59878606, 0.        , ..., 0.65641963, 0.5301595 ,\n",
       "        0.68961334],\n",
       "       ...,\n",
       "       [0.5475367 , 0.7082523 , 0.65641963, ..., 0.        , 0.9186178 ,\n",
       "        0.81841576],\n",
       "       [0.7406728 , 0.5878906 , 0.5301595 , ..., 0.9186178 , 0.        ,\n",
       "        0.6362694 ],\n",
       "       [0.7203726 , 0.8197343 , 0.68961334, ..., 0.81841576, 0.6362694 ,\n",
       "        0.        ]], dtype=float32)"
      ]
     },
     "execution_count": 25,
     "metadata": {},
     "output_type": "execute_result"
    }
   ],
   "source": [
    "distance_matrix"
   ]
  }
 ],
 "metadata": {
  "kernelspec": {
   "display_name": "esm3",
   "language": "python",
   "name": "python3"
  },
  "language_info": {
   "codemirror_mode": {
    "name": "ipython",
    "version": 3
   },
   "file_extension": ".py",
   "mimetype": "text/x-python",
   "name": "python",
   "nbconvert_exporter": "python",
   "pygments_lexer": "ipython3",
   "version": "3.10.14"
  }
 },
 "nbformat": 4,
 "nbformat_minor": 2
}
