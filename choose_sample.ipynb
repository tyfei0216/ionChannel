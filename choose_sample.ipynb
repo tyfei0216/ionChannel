{
 "cells": [
  {
   "cell_type": "code",
   "execution_count": 1,
   "metadata": {},
   "outputs": [],
   "source": [
    "import numpy as np \n",
    "import random \n",
    "import pandas as pd\n",
    "from sklearn.metrics.pairwise import pairwise_distances\n",
    "import os \n",
    "import json \n",
    "import trainUtils\n",
    "import torch\n",
    "import testUtils \n",
    "from torch.utils.data import DataLoader\n",
    "import pickle"
   ]
  },
  {
   "cell_type": "code",
   "execution_count": 2,
   "metadata": {},
   "outputs": [],
   "source": [
    "import esm\n",
    "model, alphabet = esm.pretrained.esm2_t33_650M_UR50D()\n",
    "batch_converter = alphabet.get_batch_converter()"
   ]
  },
  {
   "cell_type": "code",
   "execution_count": 11,
   "metadata": {},
   "outputs": [
    {
     "data": {
      "text/plain": [
       "tensor([[ 0, 20, 15, 11,  7, 10, 16,  9, 10,  4, 15,  8, 12,  7, 10, 12,  4,  9,\n",
       "         10,  8, 15,  9, 14,  7,  8,  6,  5, 16,  4,  5,  9,  9,  4,  8,  7,  8,\n",
       "         10, 16,  7, 12,  7, 16, 13, 12,  5, 19,  4, 10,  8,  4,  6, 19, 17, 12,\n",
       "          7,  5, 11, 14, 10,  6, 19,  7,  4,  5,  6,  6,  2,  1,  1,  1,  1,  1,\n",
       "          1],\n",
       "        [ 0, 15,  5,  4, 11,  5, 10, 16, 16,  9,  7, 18, 13,  4, 12, 10, 13, 21,\n",
       "         12,  8, 16, 11,  6, 20, 14, 14, 11, 10,  5,  9, 12,  5, 16, 10,  4,  6,\n",
       "         18, 10,  8, 14, 17,  5,  5,  9,  9, 21,  4, 15,  5,  4,  5, 10, 15,  6,\n",
       "          7, 12,  9, 12,  7,  8,  6,  5,  8, 10,  6, 12, 10,  4,  4, 16,  9,  9,\n",
       "          2],\n",
       "        [ 0, 15,  5,  4, 11,  5, 10, 16, 16,  9,  7, 18, 13,  4, 12, 10, 13, 32,\n",
       "         12,  8, 16, 11,  6, 20, 14, 14, 11, 10,  5,  9, 12,  5, 16, 10,  4,  6,\n",
       "         18, 10,  8, 14, 17,  5,  5,  9,  9, 21,  4, 15,  5,  4,  5, 10, 15,  6,\n",
       "          7, 12,  9, 12,  7,  8,  6,  5,  8, 10,  6, 12, 10,  4,  4, 16,  9,  9,\n",
       "          2],\n",
       "        [ 0, 15,  5, 32, 12,  8, 16,  2,  1,  1,  1,  1,  1,  1,  1,  1,  1,  1,\n",
       "          1,  1,  1,  1,  1,  1,  1,  1,  1,  1,  1,  1,  1,  1,  1,  1,  1,  1,\n",
       "          1,  1,  1,  1,  1,  1,  1,  1,  1,  1,  1,  1,  1,  1,  1,  1,  1,  1,\n",
       "          1,  1,  1,  1,  1,  1,  1,  1,  1,  1,  1,  1,  1,  1,  1,  1,  1,  1,\n",
       "          1]])"
      ]
     },
     "execution_count": 11,
     "metadata": {},
     "output_type": "execute_result"
    }
   ],
   "source": [
    "data = [(\"A0A075WEH5\", 'MIQIILLRAVKKLIRSLRRRAILIYAGLYTVTLWAVSSIIFHLYEGVDLFDALYWAVTTTTTVGYGDVTPLTVRDGEVLTNPPEDFVLGDDDEVIYIAEKRIKA')]\n",
    "data = [\n",
    "    (\"protein1\", \"MKTVRQERLKSIVRILERSKEPVSGAQLAEELSVSRQVIVQDIAYLRSLGYNIVATPRGYVLAGG\"),\n",
    "    (\"protein2\", \"KALTARQQEVFDLIRDHISQTGMPPTRAEIAQRLGFRSPNAAEEHLKALARKGVIEIVSGASRGIRLLQEE\"),\n",
    "    (\"protein2 with mask\",\"KALTARQQEVFDLIRD<mask>ISQTGMPPTRAEIAQRLGFRSPNAAEEHLKALARKGVIEIVSGASRGIRLLQEE\"),\n",
    "    (\"protein3\",  \"K A <mask> I S Q\"),\n",
    "]\n",
    "_, _, a = batch_converter(data)\n",
    "a"
   ]
  },
  {
   "cell_type": "code",
   "execution_count": null,
   "metadata": {},
   "outputs": [
    {
     "ename": "AttributeError",
     "evalue": "'numpy.ndarray' object has no attribute 'numpy'",
     "output_type": "error",
     "traceback": [
      "\u001b[0;31m---------------------------------------------------------------------------\u001b[0m",
      "\u001b[0;31mAttributeError\u001b[0m                            Traceback (most recent call last)",
      "Cell \u001b[0;32mIn[9], line 1\u001b[0m\n\u001b[0;32m----> 1\u001b[0m a \u001b[38;5;241m=\u001b[39m \u001b[43ma\u001b[49m\u001b[38;5;241;43m.\u001b[39;49m\u001b[43msqueeze\u001b[49m\u001b[43m(\u001b[49m\u001b[43m)\u001b[49m\u001b[38;5;241;43m.\u001b[39;49m\u001b[43mnumpy\u001b[49m()\n\u001b[1;32m      2\u001b[0m a \u001b[38;5;241m==\u001b[39m d_esm3[\u001b[38;5;241m0\u001b[39m][\u001b[38;5;124m\"\u001b[39m\u001b[38;5;124mseq_t\u001b[39m\u001b[38;5;124m\"\u001b[39m]\n",
      "\u001b[0;31mAttributeError\u001b[0m: 'numpy.ndarray' object has no attribute 'numpy'"
     ]
    }
   ],
   "source": [
    "a = a.squeeze().numpy()\n"
   ]
  },
  {
   "cell_type": "code",
   "execution_count": 10,
   "metadata": {},
   "outputs": [
    {
     "data": {
      "text/plain": [
       "array([ True,  True,  True,  True,  True,  True,  True,  True,  True,\n",
       "        True,  True,  True,  True,  True,  True,  True,  True,  True,\n",
       "        True,  True,  True,  True,  True,  True,  True,  True,  True,\n",
       "        True,  True,  True,  True,  True,  True,  True,  True,  True,\n",
       "        True,  True,  True,  True,  True,  True,  True,  True,  True,\n",
       "        True,  True,  True,  True,  True,  True,  True,  True,  True,\n",
       "        True,  True,  True,  True,  True,  True,  True,  True,  True,\n",
       "        True,  True,  True,  True,  True,  True,  True,  True,  True,\n",
       "        True,  True,  True,  True,  True,  True,  True,  True,  True,\n",
       "        True,  True,  True,  True,  True,  True,  True,  True,  True,\n",
       "        True,  True,  True,  True,  True,  True,  True,  True,  True,\n",
       "        True,  True,  True,  True,  True,  True,  True])"
      ]
     },
     "execution_count": 10,
     "metadata": {},
     "output_type": "execute_result"
    }
   ],
   "source": [
    "a == d_esm3[0][\"seq_t\"]"
   ]
  },
  {
   "cell_type": "code",
   "execution_count": null,
   "metadata": {},
   "outputs": [],
   "source": [
    "with open(\"/data/tyfei/datasets/ion_channel/Interpro_v2/kingdom/Archaea1_label.pkl_v2_1125.pkl\", \"rb\") as f:\n",
    "    d_esm3 = pickle.load(f)"
   ]
  },
  {
   "cell_type": "code",
   "execution_count": null,
   "metadata": {},
   "outputs": [],
   "source": []
  },
  {
   "cell_type": "code",
   "execution_count": 5,
   "metadata": {},
   "outputs": [
    {
     "data": {
      "text/plain": [
       "{'randomseed': 1509,\n",
       " 'model': 'esm3_sm_open_v1',\n",
       " 'id': 'A0A075WEH5',\n",
       " 'ori_seq': 'MIQIILLRAVKKLIRSLRRRAILIYAGLYTVTLWAVSSIIFHLYEGVDLFDALYWAVTTTTTVGYGDVTPLTVRDGEVLTNPPEDFVLGDDDEVIYIAEKRIKA',\n",
       " 'seq_t': array([ 0, 20, 12, 16, 12, 12,  4,  4, 10,  5,  7, 15, 15,  4, 12, 10,  8,\n",
       "         4, 10, 10, 10,  5, 12,  4, 12, 19,  5,  6,  4, 19, 11,  7, 11,  4,\n",
       "        22,  5,  7,  8,  8, 12, 12, 18, 21,  4, 19,  9,  6,  7, 13,  4, 18,\n",
       "        13,  5,  4, 19, 22,  5,  7, 11, 11, 11, 11, 11,  7,  6, 19,  6, 13,\n",
       "         7, 11, 14,  4, 11,  7, 10, 13,  6,  9,  7,  4, 11, 17, 14, 14,  9,\n",
       "        13, 18,  7,  4,  6, 13, 13, 13,  9,  7, 12, 19, 12,  5,  9, 15, 10,\n",
       "        12, 15,  5,  2]),\n",
       " 'structure_t': array([4098, 2048,  264, 1800,  588, 3954, 2605,  588,  264,  123, 1197,\n",
       "        3961, 1197,  588, 1197, 1197,  588, 1450, 2082,  445,  123,   74,\n",
       "        1476,  987,  588,  588, 2082, 2585, 3607, 2585, 3979, 4006, 2585,\n",
       "         156, 1793, 2298, 1265, 1015,  339, 3056, 1265, 2491, 2461,  116,\n",
       "        1842, 2201,   87, 3424,  718, 2827, 1654, 3416, 2148,  134,  123,\n",
       "        1822, 1733, 3856, 1592, 2082,  175, 1012, 3254,   76,  187, 3827,\n",
       "        2612,    9, 3330, 2721, 3929, 1784, 1587,  769, 2540, 3725, 2410,\n",
       "        4055,  971, 1983, 3197, 1307,  397, 3573, 3694,  987, 3420, 3638,\n",
       "        3552, 3655, 1345, 3643, 2832, 2907, 2977, 2210, 1339, 2977, 2175,\n",
       "        3729, 2210, 4005, 3332,  698, 1035, 4097]),\n",
       " 'second_t': array([ 0, 10,  4,  4,  4,  4,  4,  4,  4,  4,  4,  4,  4,  4,  4,  4,  4,\n",
       "         4,  4,  4,  4,  4,  4,  4,  4,  4,  4,  4,  4,  4,  4,  4,  4,  4,\n",
       "         4,  4,  4,  4,  4,  4,  4,  4,  4,  4,  4,  4, 10, 10, 10,  4,  4,\n",
       "         4,  4,  4,  4,  4,  4,  4,  4,  4,  4,  6,  6, 10, 10, 10, 10,  9,\n",
       "         9, 10, 10, 10,  7,  7,  7,  6,  6,  7,  7,  7,  7,  9, 10, 10,  9,\n",
       "         6, 10, 10, 10, 10,  6,  6, 10, 10, 10, 10, 10, 10, 10, 10, 10, 10,\n",
       "        10, 10, 10,  0]),\n",
       " 'sasa_t': array([ 0, 18, 17, 17, 14, 17, 16, 17, 16, 16, 16, 10, 18, 16, 14, 17, 17,\n",
       "        12, 18, 13,  8,  8, 14, 18, 16, 13, 11, 16,  9, 17, 16, 17,  8, 11,\n",
       "        13, 10, 15, 15,  5, 14, 16,  9, 15, 17, 17,  7, 10,  7, 13, 17, 17,\n",
       "         8,  3, 13, 14,  8,  4, 10,  5, 11, 15, 13, 16, 16, 11, 17,  8, 14,\n",
       "         9, 10,  5,  8,  8,  8, 11, 17, 12, 14, 16,  8, 10,  7,  7, 15, 18,\n",
       "        16, 13, 16, 14, 11, 17, 18,  8, 17, 14, 11, 18, 17, 15, 18, 18, 17,\n",
       "        18, 15, 18,  0]),\n",
       " 'coordinates': array([[[        inf,         inf,         inf],\n",
       "         [        inf,         inf,         inf],\n",
       "         [        inf,         inf,         inf],\n",
       "         ...,\n",
       "         [        inf,         inf,         inf],\n",
       "         [        inf,         inf,         inf],\n",
       "         [        inf,         inf,         inf]],\n",
       " \n",
       "        [[ 48.32374  ,  -8.245507 , -12.296472 ],\n",
       "         [ 47.71225  ,  -8.951231 , -11.175237 ],\n",
       "         [ 46.476143 ,  -8.214184 , -10.670536 ],\n",
       "         ...,\n",
       "         [        inf,         inf,         inf],\n",
       "         [        inf,         inf,         inf],\n",
       "         [        inf,         inf,         inf]],\n",
       " \n",
       "        [[ 46.533867 ,  -6.849148 , -10.339263 ],\n",
       "         [ 45.421455 ,  -6.0439434,  -9.846013 ],\n",
       "         [ 44.238388 ,  -6.0941095, -10.8071375],\n",
       "         ...,\n",
       "         [        inf,         inf,         inf],\n",
       "         [        inf,         inf,         inf],\n",
       "         [        inf,         inf,         inf]],\n",
       " \n",
       "        ...,\n",
       " \n",
       "        [[-10.90896  ,  -7.003314 , -19.54348  ],\n",
       "         [-11.010006 ,  -8.02265  , -20.582645 ],\n",
       "         [ -9.728991 ,  -8.095601 , -21.407026 ],\n",
       "         ...,\n",
       "         [        inf,         inf,         inf],\n",
       "         [        inf,         inf,         inf],\n",
       "         [        inf,         inf,         inf]],\n",
       " \n",
       "        [[ -9.532718 ,  -8.847705 , -21.875847 ],\n",
       "         [ -8.519904 ,  -9.217782 , -22.858887 ],\n",
       "         [ -9.079748 ,  -9.151723 , -24.275976 ],\n",
       "         ...,\n",
       "         [        inf,         inf,         inf],\n",
       "         [        inf,         inf,         inf],\n",
       "         [        inf,         inf,         inf]],\n",
       " \n",
       "        [[        inf,         inf,         inf],\n",
       "         [        inf,         inf,         inf],\n",
       "         [        inf,         inf,         inf],\n",
       "         ...,\n",
       "         [        inf,         inf,         inf],\n",
       "         [        inf,         inf,         inf],\n",
       "         [        inf,         inf,         inf]]], dtype=float32),\n",
       " 'Tmranges': [(21, 43)],\n",
       " 'classes': {'Voltage-gated': 0,\n",
       "  'Ligand-gated': 1,\n",
       "  'Mechanically-gated': 0,\n",
       "  'Other gating': 0,\n",
       "  'plasma membrane': 1,\n",
       "  'endoplasmic reticulum': 0,\n",
       "  'endosome': 0,\n",
       "  'apical membrane': 0,\n",
       "  'golgi': 0,\n",
       "  'mitochondria': 0,\n",
       "  'lysosome': 0,\n",
       "  'K+': 1,\n",
       "  'Ca2+': 0,\n",
       "  'Na+': 0,\n",
       "  'Mg2+': 0,\n",
       "  'Cl-': 0,\n",
       "  'H+': 0,\n",
       "  'Zn2+': 0,\n",
       "  'F-': 0,\n",
       "  'Selectivity': 1}}"
      ]
     },
     "execution_count": 5,
     "metadata": {},
     "output_type": "execute_result"
    }
   ],
   "source": [
    "d_esm3[0]"
   ]
  },
  {
   "cell_type": "code",
   "execution_count": 39,
   "metadata": {},
   "outputs": [],
   "source": [
    "with open(\"/data/tyfei/datasets/ion_channel/Interpro_v2/kingdom/Archaea.fasta_esm2.pkl\", \"rb\") as f:\n",
    "    d_esm2 = pickle.load(f)"
   ]
  },
  {
   "cell_type": "code",
   "execution_count": 41,
   "metadata": {},
   "outputs": [
    {
     "data": {
      "text/plain": [
       "(273, 210)"
      ]
     },
     "execution_count": 41,
     "metadata": {},
     "output_type": "execute_result"
    }
   ],
   "source": [
    "len(d_esm2), len(d_esm3)"
   ]
  },
  {
   "cell_type": "code",
   "execution_count": 40,
   "metadata": {},
   "outputs": [
    {
     "ename": "AssertionError",
     "evalue": "",
     "output_type": "error",
     "traceback": [
      "\u001b[0;31m---------------------------------------------------------------------------\u001b[0m",
      "\u001b[0;31mAssertionError\u001b[0m                            Traceback (most recent call last)",
      "Cell \u001b[0;32mIn[40], line 2\u001b[0m\n\u001b[1;32m      1\u001b[0m res \u001b[38;5;241m=\u001b[39m [] \n\u001b[0;32m----> 2\u001b[0m \u001b[38;5;28;01massert\u001b[39;00m \u001b[38;5;28mlen\u001b[39m(d_esm2) \u001b[38;5;241m==\u001b[39m \u001b[38;5;28mlen\u001b[39m(d_esm3)\n\u001b[1;32m      3\u001b[0m \u001b[38;5;28;01mfor\u001b[39;00m d1, d2 \u001b[38;5;129;01min\u001b[39;00m \u001b[38;5;28mzip\u001b[39m(d_esm2, d_esm3):\n\u001b[1;32m      4\u001b[0m     t \u001b[38;5;241m=\u001b[39m {} \n",
      "\u001b[0;31mAssertionError\u001b[0m: "
     ]
    }
   ],
   "source": [
    "res = [] \n",
    "assert len(d_esm2) == len(d_esm3)\n",
    "for d1, d2 in zip(d_esm2, d_esm3):\n",
    "    t = {} \n",
    "    t[\"model\"] = \"esm2\"\n",
    "    t[\"ori_seq\"] = d2[\"ori_seq\"]\n",
    "    t[\"seq_t\"] = d2[\"seq_t\"]\n",
    "    t[\"seq_t\"] = d1[:len(d2[\"seq_t\"])]\n",
    "    t[\"label\"] = d2[\"label\"]\n",
    "    t[\"id\"] = d2[\"id\"]\n",
    "    t[\"Tmranges\"] = d2[\"Tmranges\"] \n",
    "    res.append(t)"
   ]
  },
  {
   "cell_type": "code",
   "execution_count": 35,
   "metadata": {},
   "outputs": [
    {
     "data": {
      "text/plain": [
       "dict_keys(['randomseed', 'model', 'id', 'ori_seq', 'seq_t', 'structure_t', 'second_t', 'sasa_t', 'coordinates', 'Tmranges', 'classes'])"
      ]
     },
     "execution_count": 35,
     "metadata": {},
     "output_type": "execute_result"
    }
   ],
   "source": [
    "d_esm3[0].keys()"
   ]
  },
  {
   "cell_type": "code",
   "execution_count": null,
   "metadata": {},
   "outputs": [],
   "source": []
  },
  {
   "cell_type": "code",
   "execution_count": null,
   "metadata": {},
   "outputs": [],
   "source": [
    "def pick_sample(distance_matrix, num, weight, dis_weight, use_random=True, random_seed=1013):\n",
    "    if use_random:\n",
    "        random.seed(random_seed)\n",
    "        np.random.seed(random_seed)\n",
    "    picked = [] \n",
    "    for i in range(num):\n",
    "        q = np.zeros_like(distance_matrix[0])\n",
    "        for j in picked:\n",
    "            q += distance_matrix[j] \n",
    "        q /= len(picked)+0.001 \n",
    "        pick_weight = weight+q*dis_weight \n",
    "        pick_weight = np.exp(pick_weight) \n",
    "        pick_weight[picked] = 0\n",
    "        if use_random:\n",
    "            pick_weight = np.exp(pick_weight) \n",
    "            pick_weight[picked] = 0\n",
    "            pick_weight = pick_weight/np.sum(pick_weight)\n",
    "            picked.append(np.random.choice(len(pick_weight), p=pick_weight))\n",
    "        else:\n",
    "            picked.append(np.argmax(pick_weight))\n",
    "    return picked"
   ]
  },
  {
   "cell_type": "code",
   "execution_count": 4,
   "metadata": {},
   "outputs": [
    {
     "name": "stdout",
     "output_type": "stream",
     "text": [
      "initized model for base_learning stage\n"
     ]
    },
    {
     "name": "stderr",
     "output_type": "stream",
     "text": [
      "/home/tyfei/anaconda3/envs/esm3/lib/python3.10/site-packages/torchmetrics/utilities/prints.py:43: UserWarning: Metric `SpearmanCorrcoef` will save all targets and predictions in the buffer. For large datasets, this may lead to large memory footprint.\n",
      "  warnings.warn(*args, **kwargs)  # noqa: B028\n"
     ]
    }
   ],
   "source": [
    "path = \"/data2/tyfei/trainresults/ionChannels/ESMCFinal/logit2/\"\n",
    "with open(os.path.join(path, \"config.json\"), \"r\") as f:\n",
    "    configs = json.load(f)\n",
    "pretrain_model = trainUtils.loadPretrainModel(configs)\n",
    "model = trainUtils.buildModel(configs, pretrain_model)"
   ]
  },
  {
   "cell_type": "code",
   "execution_count": 8,
   "metadata": {},
   "outputs": [
    {
     "data": {
      "text/plain": [
       "_IncompatibleKeys(missing_keys=['esm_model.embed.weight', 'esm_model.transformer.blocks.0.attn.layernorm_qkv.1.linear.weight', 'esm_model.transformer.blocks.0.attn.out_proj.linear.weight', 'esm_model.transformer.blocks.0.ffn.0.weight', 'esm_model.transformer.blocks.0.ffn.0.bias', 'esm_model.transformer.blocks.0.ffn.1.linear.weight', 'esm_model.transformer.blocks.0.ffn.3.linear.weight', 'esm_model.transformer.blocks.1.attn.layernorm_qkv.1.linear.weight', 'esm_model.transformer.blocks.1.attn.out_proj.linear.weight', 'esm_model.transformer.blocks.1.ffn.0.weight', 'esm_model.transformer.blocks.1.ffn.0.bias', 'esm_model.transformer.blocks.1.ffn.1.linear.weight', 'esm_model.transformer.blocks.1.ffn.3.linear.weight', 'esm_model.transformer.blocks.2.attn.layernorm_qkv.1.linear.weight', 'esm_model.transformer.blocks.2.attn.out_proj.linear.weight', 'esm_model.transformer.blocks.2.ffn.0.weight', 'esm_model.transformer.blocks.2.ffn.0.bias', 'esm_model.transformer.blocks.2.ffn.1.linear.weight', 'esm_model.transformer.blocks.2.ffn.3.linear.weight', 'esm_model.transformer.blocks.3.attn.layernorm_qkv.1.linear.weight', 'esm_model.transformer.blocks.3.attn.out_proj.linear.weight', 'esm_model.transformer.blocks.3.ffn.0.weight', 'esm_model.transformer.blocks.3.ffn.0.bias', 'esm_model.transformer.blocks.3.ffn.1.linear.weight', 'esm_model.transformer.blocks.3.ffn.3.linear.weight', 'esm_model.transformer.blocks.4.attn.layernorm_qkv.1.linear.weight', 'esm_model.transformer.blocks.4.attn.out_proj.linear.weight', 'esm_model.transformer.blocks.4.ffn.0.weight', 'esm_model.transformer.blocks.4.ffn.0.bias', 'esm_model.transformer.blocks.4.ffn.1.linear.weight', 'esm_model.transformer.blocks.4.ffn.3.linear.weight', 'esm_model.transformer.blocks.5.attn.layernorm_qkv.1.linear.weight', 'esm_model.transformer.blocks.5.attn.out_proj.linear.weight', 'esm_model.transformer.blocks.5.ffn.0.weight', 'esm_model.transformer.blocks.5.ffn.0.bias', 'esm_model.transformer.blocks.5.ffn.1.linear.weight', 'esm_model.transformer.blocks.5.ffn.3.linear.weight', 'esm_model.transformer.blocks.6.attn.layernorm_qkv.1.linear.weight', 'esm_model.transformer.blocks.6.attn.out_proj.linear.weight', 'esm_model.transformer.blocks.6.ffn.0.weight', 'esm_model.transformer.blocks.6.ffn.0.bias', 'esm_model.transformer.blocks.6.ffn.1.linear.weight', 'esm_model.transformer.blocks.6.ffn.3.linear.weight', 'esm_model.transformer.blocks.7.attn.layernorm_qkv.1.linear.weight', 'esm_model.transformer.blocks.7.attn.out_proj.linear.weight', 'esm_model.transformer.blocks.7.ffn.0.weight', 'esm_model.transformer.blocks.7.ffn.0.bias', 'esm_model.transformer.blocks.7.ffn.1.linear.weight', 'esm_model.transformer.blocks.7.ffn.3.linear.weight', 'esm_model.transformer.blocks.8.attn.layernorm_qkv.1.linear.weight', 'esm_model.transformer.blocks.8.attn.out_proj.linear.weight', 'esm_model.transformer.blocks.8.ffn.0.weight', 'esm_model.transformer.blocks.8.ffn.0.bias', 'esm_model.transformer.blocks.8.ffn.1.linear.weight', 'esm_model.transformer.blocks.8.ffn.3.linear.weight', 'esm_model.transformer.blocks.9.attn.layernorm_qkv.1.linear.weight', 'esm_model.transformer.blocks.9.attn.out_proj.linear.weight', 'esm_model.transformer.blocks.9.ffn.0.weight', 'esm_model.transformer.blocks.9.ffn.0.bias', 'esm_model.transformer.blocks.9.ffn.1.linear.weight', 'esm_model.transformer.blocks.9.ffn.3.linear.weight', 'esm_model.transformer.blocks.10.attn.layernorm_qkv.1.linear.weight', 'esm_model.transformer.blocks.10.attn.out_proj.linear.weight', 'esm_model.transformer.blocks.10.ffn.0.weight', 'esm_model.transformer.blocks.10.ffn.0.bias', 'esm_model.transformer.blocks.10.ffn.1.linear.weight', 'esm_model.transformer.blocks.10.ffn.3.linear.weight', 'esm_model.transformer.blocks.11.attn.layernorm_qkv.1.linear.weight', 'esm_model.transformer.blocks.11.attn.out_proj.linear.weight', 'esm_model.transformer.blocks.11.ffn.0.weight', 'esm_model.transformer.blocks.11.ffn.0.bias', 'esm_model.transformer.blocks.11.ffn.1.linear.weight', 'esm_model.transformer.blocks.11.ffn.3.linear.weight', 'esm_model.transformer.blocks.12.attn.layernorm_qkv.1.linear.weight', 'esm_model.transformer.blocks.12.attn.out_proj.linear.weight', 'esm_model.transformer.blocks.12.ffn.0.weight', 'esm_model.transformer.blocks.12.ffn.0.bias', 'esm_model.transformer.blocks.12.ffn.1.linear.weight', 'esm_model.transformer.blocks.12.ffn.3.linear.weight', 'esm_model.transformer.blocks.13.attn.layernorm_qkv.1.linear.weight', 'esm_model.transformer.blocks.13.attn.out_proj.linear.weight', 'esm_model.transformer.blocks.13.ffn.0.weight', 'esm_model.transformer.blocks.13.ffn.0.bias', 'esm_model.transformer.blocks.13.ffn.1.linear.weight', 'esm_model.transformer.blocks.13.ffn.3.linear.weight', 'esm_model.transformer.blocks.14.attn.layernorm_qkv.1.linear.weight', 'esm_model.transformer.blocks.14.attn.out_proj.linear.weight', 'esm_model.transformer.blocks.14.ffn.0.weight', 'esm_model.transformer.blocks.14.ffn.0.bias', 'esm_model.transformer.blocks.14.ffn.1.linear.weight', 'esm_model.transformer.blocks.14.ffn.3.linear.weight', 'esm_model.transformer.blocks.15.attn.layernorm_qkv.1.linear.weight', 'esm_model.transformer.blocks.15.attn.out_proj.linear.weight', 'esm_model.transformer.blocks.15.ffn.0.weight', 'esm_model.transformer.blocks.15.ffn.0.bias', 'esm_model.transformer.blocks.15.ffn.1.linear.weight', 'esm_model.transformer.blocks.15.ffn.3.linear.weight', 'esm_model.transformer.blocks.16.attn.layernorm_qkv.1.linear.weight', 'esm_model.transformer.blocks.16.attn.out_proj.linear.weight', 'esm_model.transformer.blocks.16.ffn.0.weight', 'esm_model.transformer.blocks.16.ffn.0.bias', 'esm_model.transformer.blocks.16.ffn.1.linear.weight', 'esm_model.transformer.blocks.16.ffn.3.linear.weight', 'esm_model.transformer.blocks.17.attn.layernorm_qkv.1.linear.weight', 'esm_model.transformer.blocks.17.attn.out_proj.linear.weight', 'esm_model.transformer.blocks.17.ffn.0.weight', 'esm_model.transformer.blocks.17.ffn.0.bias', 'esm_model.transformer.blocks.17.ffn.1.linear.weight', 'esm_model.transformer.blocks.17.ffn.3.linear.weight', 'esm_model.transformer.blocks.18.attn.layernorm_qkv.1.linear.weight', 'esm_model.transformer.blocks.18.attn.out_proj.linear.weight', 'esm_model.transformer.blocks.18.ffn.0.weight', 'esm_model.transformer.blocks.18.ffn.0.bias', 'esm_model.transformer.blocks.18.ffn.1.linear.weight', 'esm_model.transformer.blocks.18.ffn.3.linear.weight', 'esm_model.transformer.blocks.19.attn.layernorm_qkv.1.linear.weight', 'esm_model.transformer.blocks.19.attn.out_proj.linear.weight', 'esm_model.transformer.blocks.19.ffn.0.weight', 'esm_model.transformer.blocks.19.ffn.0.bias', 'esm_model.transformer.blocks.19.ffn.1.linear.weight', 'esm_model.transformer.blocks.19.ffn.3.linear.weight', 'esm_model.transformer.blocks.20.attn.layernorm_qkv.1.linear.weight', 'esm_model.transformer.blocks.20.attn.out_proj.linear.weight', 'esm_model.transformer.blocks.20.ffn.0.weight', 'esm_model.transformer.blocks.20.ffn.0.bias', 'esm_model.transformer.blocks.20.ffn.1.linear.weight', 'esm_model.transformer.blocks.20.ffn.3.linear.weight', 'esm_model.transformer.blocks.21.attn.layernorm_qkv.1.linear.weight', 'esm_model.transformer.blocks.21.attn.out_proj.linear.weight', 'esm_model.transformer.blocks.21.ffn.0.weight', 'esm_model.transformer.blocks.21.ffn.0.bias', 'esm_model.transformer.blocks.21.ffn.1.linear.weight', 'esm_model.transformer.blocks.21.ffn.3.linear.weight', 'esm_model.transformer.blocks.22.attn.layernorm_qkv.1.linear.weight', 'esm_model.transformer.blocks.22.attn.out_proj.linear.weight', 'esm_model.transformer.blocks.22.ffn.0.weight', 'esm_model.transformer.blocks.22.ffn.0.bias', 'esm_model.transformer.blocks.22.ffn.1.linear.weight', 'esm_model.transformer.blocks.22.ffn.3.linear.weight', 'esm_model.transformer.blocks.23.attn.layernorm_qkv.1.linear.weight', 'esm_model.transformer.blocks.23.attn.out_proj.linear.weight', 'esm_model.transformer.blocks.23.ffn.0.weight', 'esm_model.transformer.blocks.23.ffn.0.bias', 'esm_model.transformer.blocks.23.ffn.1.linear.weight', 'esm_model.transformer.blocks.23.ffn.3.linear.weight', 'esm_model.transformer.blocks.24.attn.layernorm_qkv.1.linear.weight', 'esm_model.transformer.blocks.24.attn.out_proj.linear.weight', 'esm_model.transformer.blocks.24.ffn.0.weight', 'esm_model.transformer.blocks.24.ffn.0.bias', 'esm_model.transformer.blocks.24.ffn.1.linear.weight', 'esm_model.transformer.blocks.24.ffn.3.linear.weight', 'esm_model.transformer.blocks.25.attn.layernorm_qkv.1.linear.weight', 'esm_model.transformer.blocks.25.attn.out_proj.linear.weight', 'esm_model.transformer.blocks.25.ffn.0.weight', 'esm_model.transformer.blocks.25.ffn.0.bias', 'esm_model.transformer.blocks.25.ffn.1.linear.weight', 'esm_model.transformer.blocks.25.ffn.3.linear.weight', 'esm_model.transformer.blocks.26.attn.layernorm_qkv.1.linear.weight', 'esm_model.transformer.blocks.26.attn.out_proj.linear.weight', 'esm_model.transformer.blocks.26.ffn.0.weight', 'esm_model.transformer.blocks.26.ffn.0.bias', 'esm_model.transformer.blocks.26.ffn.1.linear.weight', 'esm_model.transformer.blocks.26.ffn.3.linear.weight', 'esm_model.transformer.blocks.27.attn.layernorm_qkv.1.linear.weight', 'esm_model.transformer.blocks.27.attn.out_proj.linear.weight', 'esm_model.transformer.blocks.27.ffn.0.weight', 'esm_model.transformer.blocks.27.ffn.0.bias', 'esm_model.transformer.blocks.27.ffn.1.linear.weight', 'esm_model.transformer.blocks.27.ffn.3.linear.weight', 'esm_model.transformer.blocks.28.attn.layernorm_qkv.1.linear.weight', 'esm_model.transformer.blocks.28.attn.out_proj.linear.weight', 'esm_model.transformer.blocks.28.ffn.0.weight', 'esm_model.transformer.blocks.28.ffn.0.bias', 'esm_model.transformer.blocks.28.ffn.1.linear.weight', 'esm_model.transformer.blocks.28.ffn.3.linear.weight', 'esm_model.transformer.blocks.29.attn.layernorm_qkv.1.linear.weight', 'esm_model.transformer.blocks.29.attn.out_proj.linear.weight', 'esm_model.transformer.blocks.29.ffn.0.weight', 'esm_model.transformer.blocks.29.ffn.0.bias', 'esm_model.transformer.blocks.29.ffn.1.linear.weight', 'esm_model.transformer.blocks.29.ffn.3.linear.weight', 'esm_model.transformer.blocks.30.attn.layernorm_qkv.1.linear.weight', 'esm_model.transformer.blocks.30.attn.out_proj.linear.weight', 'esm_model.transformer.blocks.30.ffn.0.weight', 'esm_model.transformer.blocks.30.ffn.0.bias', 'esm_model.transformer.blocks.30.ffn.1.linear.weight', 'esm_model.transformer.blocks.30.ffn.3.linear.weight', 'esm_model.transformer.blocks.31.attn.layernorm_qkv.1.linear.weight', 'esm_model.transformer.blocks.31.attn.out_proj.linear.weight', 'esm_model.transformer.blocks.31.ffn.0.weight', 'esm_model.transformer.blocks.31.ffn.0.bias', 'esm_model.transformer.blocks.31.ffn.1.linear.weight', 'esm_model.transformer.blocks.31.ffn.3.linear.weight', 'esm_model.transformer.blocks.32.attn.layernorm_qkv.1.linear.weight', 'esm_model.transformer.blocks.32.attn.out_proj.linear.weight', 'esm_model.transformer.blocks.32.ffn.0.weight', 'esm_model.transformer.blocks.32.ffn.0.bias', 'esm_model.transformer.blocks.32.ffn.1.linear.weight', 'esm_model.transformer.blocks.32.ffn.3.linear.weight', 'esm_model.transformer.blocks.33.attn.layernorm_qkv.1.linear.weight', 'esm_model.transformer.blocks.33.attn.out_proj.linear.weight', 'esm_model.transformer.blocks.33.ffn.0.weight', 'esm_model.transformer.blocks.33.ffn.0.bias', 'esm_model.transformer.blocks.33.ffn.1.linear.weight', 'esm_model.transformer.blocks.33.ffn.3.linear.weight', 'esm_model.transformer.blocks.34.attn.layernorm_qkv.1.linear.weight', 'esm_model.transformer.blocks.34.attn.out_proj.linear.weight', 'esm_model.transformer.blocks.34.ffn.0.weight', 'esm_model.transformer.blocks.34.ffn.0.bias', 'esm_model.transformer.blocks.34.ffn.1.linear.weight', 'esm_model.transformer.blocks.34.ffn.3.linear.weight', 'esm_model.transformer.blocks.35.attn.layernorm_qkv.1.linear.weight', 'esm_model.transformer.blocks.35.attn.out_proj.linear.weight', 'esm_model.transformer.blocks.35.ffn.0.weight', 'esm_model.transformer.blocks.35.ffn.0.bias', 'esm_model.transformer.blocks.35.ffn.1.linear.weight', 'esm_model.transformer.blocks.35.ffn.3.linear.weight'], unexpected_keys=[])"
      ]
     },
     "execution_count": 8,
     "metadata": {},
     "output_type": "execute_result"
    }
   ],
   "source": [
    "ckpt = torch.load(\"/data2/tyfei/trainresults/ionChannels/ESMCFinal/logit2/last.ckpt\")\n",
    "model.load_state_dict(ckpt['state_dict'], strict=False)"
   ]
  },
  {
   "cell_type": "code",
   "execution_count": 10,
   "metadata": {},
   "outputs": [
    {
     "name": "stderr",
     "output_type": "stream",
     "text": [
      "100%|██████████| 885/885 [01:35<00:00,  9.26it/s]\n"
     ]
    }
   ],
   "source": [
    "import VirusDataset\n",
    "test = trainUtils.loadPickle(\"/data/tyfei/datasets/ion_channel/Interprot/test885.pkl\")\n",
    "test_set = VirusDataset.ESM3MultiTrackDatasetTEST(test, tracks=[\"seq_t\"]) \n",
    "dl = DataLoader(test_set, batch_size=1, shuffle=False) \n",
    "embed2, _ = testUtils.getEmbeddings(pretrain_model, dl, 6, 300000, \"esmc\", \"mean\")"
   ]
  },
  {
   "cell_type": "code",
   "execution_count": 11,
   "metadata": {},
   "outputs": [
    {
     "name": "stdout",
     "output_type": "stream",
     "text": [
      "(885, 1152)\n"
     ]
    }
   ],
   "source": [
    "q = np.array(embed2)\n",
    "q = q.squeeze()\n",
    "print(q.shape)"
   ]
  },
  {
   "cell_type": "code",
   "execution_count": 12,
   "metadata": {},
   "outputs": [
    {
     "data": {
      "text/html": [
       "<div>\n",
       "<style scoped>\n",
       "    .dataframe tbody tr th:only-of-type {\n",
       "        vertical-align: middle;\n",
       "    }\n",
       "\n",
       "    .dataframe tbody tr th {\n",
       "        vertical-align: top;\n",
       "    }\n",
       "\n",
       "    .dataframe thead th {\n",
       "        text-align: right;\n",
       "    }\n",
       "</style>\n",
       "<table border=\"1\" class=\"dataframe\">\n",
       "  <thead>\n",
       "    <tr style=\"text-align: right;\">\n",
       "      <th></th>\n",
       "      <th>predict</th>\n",
       "      <th>ER</th>\n",
       "      <th>CA</th>\n",
       "      <th>id</th>\n",
       "    </tr>\n",
       "  </thead>\n",
       "  <tbody>\n",
       "    <tr>\n",
       "      <th>0</th>\n",
       "      <td>0.168520</td>\n",
       "      <td>0.245961</td>\n",
       "      <td>0.718966</td>\n",
       "      <td>0</td>\n",
       "    </tr>\n",
       "    <tr>\n",
       "      <th>1</th>\n",
       "      <td>0.224602</td>\n",
       "      <td>0.839389</td>\n",
       "      <td>0.750200</td>\n",
       "      <td>1</td>\n",
       "    </tr>\n",
       "    <tr>\n",
       "      <th>2</th>\n",
       "      <td>0.655674</td>\n",
       "      <td>0.258202</td>\n",
       "      <td>0.468684</td>\n",
       "      <td>2</td>\n",
       "    </tr>\n",
       "    <tr>\n",
       "      <th>3</th>\n",
       "      <td>0.464760</td>\n",
       "      <td>0.526605</td>\n",
       "      <td>0.238183</td>\n",
       "      <td>3</td>\n",
       "    </tr>\n",
       "    <tr>\n",
       "      <th>4</th>\n",
       "      <td>0.140256</td>\n",
       "      <td>0.881562</td>\n",
       "      <td>0.170585</td>\n",
       "      <td>4</td>\n",
       "    </tr>\n",
       "  </tbody>\n",
       "</table>\n",
       "</div>"
      ],
      "text/plain": [
       "    predict        ER        CA  id\n",
       "0  0.168520  0.245961  0.718966   0\n",
       "1  0.224602  0.839389  0.750200   1\n",
       "2  0.655674  0.258202  0.468684   2\n",
       "3  0.464760  0.526605  0.238183   3\n",
       "4  0.140256  0.881562  0.170585   4"
      ]
     },
     "execution_count": 12,
     "metadata": {},
     "output_type": "execute_result"
    }
   ],
   "source": [
    "#prepare dataframe \n",
    "df = pd.DataFrame({\"predict\":np.random.uniform(0, 1, 885), \"ER\":np.random.uniform(0, 1, 885), \"CA\":np.random.uniform(0, 1, 885), \"id\":range(885)})\n",
    "df.head()"
   ]
  },
  {
   "cell_type": "code",
   "execution_count": 14,
   "metadata": {},
   "outputs": [
    {
     "data": {
      "text/html": [
       "<div>\n",
       "<style scoped>\n",
       "    .dataframe tbody tr th:only-of-type {\n",
       "        vertical-align: middle;\n",
       "    }\n",
       "\n",
       "    .dataframe tbody tr th {\n",
       "        vertical-align: top;\n",
       "    }\n",
       "\n",
       "    .dataframe thead th {\n",
       "        text-align: right;\n",
       "    }\n",
       "</style>\n",
       "<table border=\"1\" class=\"dataframe\">\n",
       "  <thead>\n",
       "    <tr style=\"text-align: right;\">\n",
       "      <th></th>\n",
       "      <th>predict</th>\n",
       "      <th>ER</th>\n",
       "      <th>CA</th>\n",
       "      <th>id</th>\n",
       "      <th>weight</th>\n",
       "    </tr>\n",
       "  </thead>\n",
       "  <tbody>\n",
       "    <tr>\n",
       "      <th>291</th>\n",
       "      <td>0.005510</td>\n",
       "      <td>0.154590</td>\n",
       "      <td>0.948633</td>\n",
       "      <td>291</td>\n",
       "      <td>1.315508</td>\n",
       "    </tr>\n",
       "    <tr>\n",
       "      <th>604</th>\n",
       "      <td>0.006572</td>\n",
       "      <td>0.559203</td>\n",
       "      <td>0.375007</td>\n",
       "      <td>604</td>\n",
       "      <td>1.224343</td>\n",
       "    </tr>\n",
       "    <tr>\n",
       "      <th>804</th>\n",
       "      <td>0.007380</td>\n",
       "      <td>0.300001</td>\n",
       "      <td>0.627633</td>\n",
       "      <td>804</td>\n",
       "      <td>1.248290</td>\n",
       "    </tr>\n",
       "    <tr>\n",
       "      <th>578</th>\n",
       "      <td>0.013698</td>\n",
       "      <td>0.030708</td>\n",
       "      <td>0.360003</td>\n",
       "      <td>578</td>\n",
       "      <td>1.114143</td>\n",
       "    </tr>\n",
       "    <tr>\n",
       "      <th>72</th>\n",
       "      <td>0.015034</td>\n",
       "      <td>0.012941</td>\n",
       "      <td>0.378243</td>\n",
       "      <td>72</td>\n",
       "      <td>1.116061</td>\n",
       "    </tr>\n",
       "  </tbody>\n",
       "</table>\n",
       "</div>"
      ],
      "text/plain": [
       "      predict        ER        CA   id    weight\n",
       "291  0.005510  0.154590  0.948633  291  1.315508\n",
       "604  0.006572  0.559203  0.375007  604  1.224343\n",
       "804  0.007380  0.300001  0.627633  804  1.248290\n",
       "578  0.013698  0.030708  0.360003  578  1.114143\n",
       "72   0.015034  0.012941  0.378243   72  1.116061"
      ]
     },
     "execution_count": 14,
     "metadata": {},
     "output_type": "execute_result"
    }
   ],
   "source": [
    "df = df.sort_values(\"predict\")\n",
    "df[\"weight\"] = 1 + df[\"ER\"]*0.2+df[\"CA\"]*0.3\n",
    "df.head()"
   ]
  },
  {
   "cell_type": "code",
   "execution_count": 26,
   "metadata": {},
   "outputs": [],
   "source": [
    "se = [0, 110, 220, 330, 440, 550, 660, 770, 888]\n",
    "pick_num = [8, 8, 8, 8, 8, 8, 8, 8]\n",
    "all_picked = []\n",
    "for i in range(8):\n",
    "    subdf = df.iloc[se[i]:se[i+1]] \n",
    "    embeds = q[subdf[\"id\"].values] \n",
    "    distance_matrix = pairwise_distances(embeds, metric=\"euclidean\")\n",
    "    picked = pick_sample(distance_matrix, pick_num[i], subdf[\"weight\"].values, 0.5)\n",
    "    p = subdf.iloc[picked]\n",
    "    all_picked.extend(p[\"id\"].values)"
   ]
  },
  {
   "cell_type": "code",
   "execution_count": 27,
   "metadata": {},
   "outputs": [
    {
     "data": {
      "text/plain": [
       "64"
      ]
     },
     "execution_count": 27,
     "metadata": {},
     "output_type": "execute_result"
    }
   ],
   "source": [
    "len(all_picked)"
   ]
  },
  {
   "cell_type": "code",
   "execution_count": 25,
   "metadata": {},
   "outputs": [
    {
     "data": {
      "text/plain": [
       "array([[0.        , 0.44032705, 0.6662917 , ..., 0.5475367 , 0.7406728 ,\n",
       "        0.7203726 ],\n",
       "       [0.44032705, 0.        , 0.59878606, ..., 0.7082523 , 0.5878906 ,\n",
       "        0.8197343 ],\n",
       "       [0.6662917 , 0.59878606, 0.        , ..., 0.65641963, 0.5301595 ,\n",
       "        0.68961334],\n",
       "       ...,\n",
       "       [0.5475367 , 0.7082523 , 0.65641963, ..., 0.        , 0.9186178 ,\n",
       "        0.81841576],\n",
       "       [0.7406728 , 0.5878906 , 0.5301595 , ..., 0.9186178 , 0.        ,\n",
       "        0.6362694 ],\n",
       "       [0.7203726 , 0.8197343 , 0.68961334, ..., 0.81841576, 0.6362694 ,\n",
       "        0.        ]], dtype=float32)"
      ]
     },
     "execution_count": 25,
     "metadata": {},
     "output_type": "execute_result"
    }
   ],
   "source": [
    "distance_matrix"
   ]
  }
 ],
 "metadata": {
  "kernelspec": {
   "display_name": "esm2",
   "language": "python",
   "name": "python3"
  },
  "language_info": {
   "codemirror_mode": {
    "name": "ipython",
    "version": 3
   },
   "file_extension": ".py",
   "mimetype": "text/x-python",
   "name": "python",
   "nbconvert_exporter": "python",
   "pygments_lexer": "ipython3",
   "version": "3.12.2"
  }
 },
 "nbformat": 4,
 "nbformat_minor": 2
}
