{
 "cells": [
  {
   "cell_type": "code",
   "execution_count": 1,
   "metadata": {},
   "outputs": [
    {
     "name": "stderr",
     "output_type": "stream",
     "text": [
      "/home/tyfei/anaconda3/envs/esm3/lib/python3.10/site-packages/tqdm/auto.py:21: TqdmWarning: IProgress not found. Please update jupyter and ipywidgets. See https://ipywidgets.readthedocs.io/en/stable/user_install.html\n",
      "  from .autonotebook import tqdm as notebook_tqdm\n"
     ]
    },
    {
     "data": {
      "text/plain": [
       "<module 'VirusDataset' from '/home/tyfei/ionChannel/VirusDataset.py'>"
      ]
     },
     "execution_count": 1,
     "metadata": {},
     "output_type": "execute_result"
    }
   ],
   "source": [
    "import torch \n",
    "import numpy as np \n",
    "import VirusDataset \n",
    "import ioutils \n",
    "import random \n",
    "import pickle\n",
    "import pandas as pd\n",
    "import torch.utils\n",
    "from torch.utils.data import DataLoader\n",
    "import pytorch_lightning as L\n",
    "import importlib \n",
    "importlib.reload(VirusDataset)"
   ]
  },
  {
   "cell_type": "code",
   "execution_count": 2,
   "metadata": {},
   "outputs": [
    {
     "data": {
      "text/plain": [
       "<torch._C.Generator at 0x7f240c0f7b90>"
      ]
     },
     "execution_count": 2,
     "metadata": {},
     "output_type": "execute_result"
    }
   ],
   "source": [
    "import random\n",
    "random.seed(1509)\n",
    "torch.manual_seed(1509)"
   ]
  },
  {
   "cell_type": "code",
   "execution_count": 16,
   "metadata": {},
   "outputs": [],
   "source": [
    "import json\n",
    "import os\n",
    "import trainUtils \n",
    "path = \"/home/tyfei/ionChannel/ckptsesm3/Lora5onlyseq/\"\n",
    "with open(os.path.join(path, \"config.json\"), \"r\") as f:\n",
    "    configs = json.load(f)\n",
    "\n",
    "pretrain_model = trainUtils.loadPretrainModel(configs) \n",
    "model = trainUtils.buildModel(configs, pretrain_model, \"/home/tyfei/ionChannel/ckptsesm3/Lora5onlyseq/last.ckpt\")"
   ]
  },
  {
   "cell_type": "code",
   "execution_count": 29,
   "metadata": {},
   "outputs": [],
   "source": [
    "from tqdm import tqdm\n",
    "def getEmbeddings(model, dl, device, trunc=30000):\n",
    "    res = [] \n",
    "    model = model.to(device)\n",
    "    model.eval()\n",
    "    pbar = tqdm(dl)\n",
    "    cnt = 0\n",
    "    for i, j in enumerate(pbar):\n",
    "        cnt += 1\n",
    "        if cnt == trunc:\n",
    "            break\n",
    "        \n",
    "        for track in [\"sequence_t\", \"structure_t\", \"ss8_t\", \"sasa_t\"]:\n",
    "            if track not in j:\n",
    "                j[track] = None\n",
    "            else:\n",
    "                j[track] = j[track].to(device)\n",
    "                if len(j[track].size()) == 1:\n",
    "                    j[track] = j[track].unsqueeze(0)\n",
    "        \n",
    "        representations = model(\n",
    "            sequence_tokens=j[\"sequence_t\"],\n",
    "            structure_tokens=j[\"structure_t\"],\n",
    "            ss8_tokens=j[\"ss8_t\"],\n",
    "            sasa_tokens=j[\"sasa_t\"],\n",
    "        )\n",
    "        representations = representations.embeddings.mean(axis=0) \n",
    "        res.append(representations.cpu().numpy()) \n",
    "    return res\n"
   ]
  },
  {
   "cell_type": "code",
   "execution_count": 30,
   "metadata": {},
   "outputs": [],
   "source": [
    "pos = [\"/home/tyfei/datasets/ion_channel/Interprot/ion_channel/mmseqs_kingdom/Archaea.pkl\", \n",
    "        \"/home/tyfei/datasets/ion_channel/Interprot/ion_channel/mmseqs_kingdom/Bacteria.pkl\", \n",
    "        \"/home/tyfei/datasets/ion_channel/Interprot/ion_channel/mmseqs_kingdom/Eukaryota.pkl\", \n",
    "        \"/home/tyfei/datasets/ion_channel/Interprot/ion_channel/mmseqs_kingdom/interpro.pkl\",\n",
    "        \"/home/tyfei/datasets/ion_channel/Interprot/ion_channel/mmseqs_kingdom/profile.pkl\"\n",
    "    ]\n",
    "neg = [\"/home/tyfei/datasets/ion_channel/Interprot/Negative_sample/refseq_rmdup_mmseq_noTMHMM.pkl\", \n",
    "        \"/home/tyfei/datasets/ion_channel/Interprot/Negative_sample/refseq_rmdup_mmseq_TMHMM_keywords.pkl\", \n",
    "        \"/home/tyfei/datasets/ion_channel/Interprot/Negative_sample/virus_proteins_rmdup_clean_X0.1_TMHMM_mmseq_keywords_norefseq.pkl\", \n",
    "        \"/home/tyfei/datasets/ion_channel/Interprot/Negative_sample/interpro_neg.pkl\"\n",
    "    ]\n",
    "test = [\"/data/yangziyue/Ion_channel/data/TEST_refseq_rmdup_mmseq_TMHMM.pkl\"]"
   ]
  },
  {
   "cell_type": "code",
   "execution_count": 31,
   "metadata": {},
   "outputs": [],
   "source": [
    "embeds = [] \n",
    "labels = [] "
   ]
  },
  {
   "cell_type": "code",
   "execution_count": 33,
   "metadata": {},
   "outputs": [
    {
     "name": "stdout",
     "output_type": "stream",
     "text": [
      "/home/tyfei/datasets/ion_channel/Interprot/ion_channel/mmseqs_kingdom/Archaea.pkl Archaea\n",
      "/home/tyfei/datasets/ion_channel/Interprot/ion_channel/mmseqs_kingdom/Bacteria.pkl Bacteria\n",
      "/home/tyfei/datasets/ion_channel/Interprot/ion_channel/mmseqs_kingdom/Eukaryota.pkl Eukaryota\n",
      "/home/tyfei/datasets/ion_channel/Interprot/ion_channel/mmseqs_kingdom/interpro.pkl interpro\n",
      "/home/tyfei/datasets/ion_channel/Interprot/ion_channel/mmseqs_kingdom/profile.pkl profile\n",
      "/home/tyfei/datasets/ion_channel/Interprot/Negative_sample/refseq_rmdup_mmseq_noTMHMM.pkl refseq_rmdup_mmseq_noTMHMM\n",
      "/home/tyfei/datasets/ion_channel/Interprot/Negative_sample/refseq_rmdup_mmseq_TMHMM_keywords.pkl refseq_rmdup_mmseq_TMHMM_keywords\n",
      "/home/tyfei/datasets/ion_channel/Interprot/Negative_sample/virus_proteins_rmdup_clean_X0.1_TMHMM_mmseq_keywords_norefseq.pkl virus_proteins_rmdup_clean_X0\n",
      "/home/tyfei/datasets/ion_channel/Interprot/Negative_sample/interpro_neg.pkl interpro_neg\n",
      "/home/tyfei/datasets/ion_channel/Interprot/Negative_sample/TEST_refseq_rmdup_mmseq_TMHMM.pkl TEST_refseq_rmdup_mmseq_TMHMM\n"
     ]
    },
    {
     "name": "stderr",
     "output_type": "stream",
     "text": [
      "100%|██████████| 18466/18466 [20:35<00:00, 14.94it/s]\n"
     ]
    }
   ],
   "source": [
    "for i in pos:\n",
    "    name = os.path.basename(i)\n",
    "    name = name[:name.find(\".\")]\n",
    "    print(i, name)\n",
    "    if os.path.exists(\"./temp/%s_ori.pkl\"%name):\n",
    "        continue\n",
    "    test = trainUtils.loadPickle(i)\n",
    "    test_set = VirusDataset.ESM3MultiTrackDatasetTEST(test) \n",
    "    dl = DataLoader(test_set, batch_size=1, shuffle=False) \n",
    "    with torch.no_grad():\n",
    "        t = getEmbeddings(pretrain_model, dl, \"cuda:0\")\n",
    "        embeds.extend(t) \n",
    "        labels.extend([name]*len(test))\n",
    "    with open(\"./temp/%s_ori.pkl\"%name, \"wb\") as f:\n",
    "        pickle.dump(t, f)\n",
    "        \n",
    "for i in neg:\n",
    "    name = os.path.basename(i)\n",
    "    name = name[:name.find(\".\")]\n",
    "    print(i, name)\n",
    "    if os.path.exists(\"./temp/%s_ori.pkl\"%name):\n",
    "        continue\n",
    "    test = trainUtils.loadPickle(i)\n",
    "    test_set = VirusDataset.ESM3MultiTrackDatasetTEST(test) \n",
    "    dl = DataLoader(test_set, batch_size=1, shuffle=False) \n",
    "    with torch.no_grad():\n",
    "        t = getEmbeddings(pretrain_model, dl, \"cuda:0\")\n",
    "        embeds.extend(t) \n",
    "        labels.extend([name]*len(test))\n",
    "    with open(\"./temp/%s_ori.pkl\"%name, \"wb\") as f:\n",
    "        pickle.dump(t, f)\n",
    "        \n",
    "for i in test:\n",
    "    name = os.path.basename(i)\n",
    "    name = name[:name.find(\".\")]\n",
    "    print(i, name)\n",
    "    if os.path.exists(\"./temp/%s_ori.pkl\"%name):\n",
    "        continue\n",
    "    test = trainUtils.loadPickle(i)\n",
    "    test_set = VirusDataset.ESM3MultiTrackDatasetTEST(test) \n",
    "    dl = DataLoader(test_set, batch_size=1, shuffle=False) \n",
    "    with torch.no_grad():\n",
    "        t = getEmbeddings(pretrain_model, dl, \"cuda:0\")\n",
    "        embeds.extend(t) \n",
    "        labels.extend([name]*len(test))\n",
    "    with open(\"./temp/%s_ori.pkl\"%name, \"wb\") as f:\n",
    "        pickle.dump(t, f)\n"
   ]
  },
  {
   "cell_type": "code",
   "execution_count": 49,
   "metadata": {},
   "outputs": [
    {
     "data": {
      "text/plain": [
       "(44927, 1536)"
      ]
     },
     "execution_count": 49,
     "metadata": {},
     "output_type": "execute_result"
    }
   ],
   "source": [
    "q = np.array(embeds)\n",
    "q.shape"
   ]
  },
  {
   "cell_type": "code",
   "execution_count": 50,
   "metadata": {},
   "outputs": [],
   "source": [
    "from sklearn.decomposition import PCA \n",
    "pca = PCA(n_components=30) \n",
    "pca_seq = pca.fit_transform(q)\n",
    "pca_seq.shape\n",
    "from sklearn.manifold import TSNE\n",
    "X_embedded = TSNE(n_components=2).fit_transform(pca_seq)"
   ]
  },
  {
   "cell_type": "code",
   "execution_count": 51,
   "metadata": {},
   "outputs": [
    {
     "data": {
      "text/html": [
       "<div>\n",
       "<style scoped>\n",
       "    .dataframe tbody tr th:only-of-type {\n",
       "        vertical-align: middle;\n",
       "    }\n",
       "\n",
       "    .dataframe tbody tr th {\n",
       "        vertical-align: top;\n",
       "    }\n",
       "\n",
       "    .dataframe thead th {\n",
       "        text-align: right;\n",
       "    }\n",
       "</style>\n",
       "<table border=\"1\" class=\"dataframe\">\n",
       "  <thead>\n",
       "    <tr style=\"text-align: right;\">\n",
       "      <th></th>\n",
       "      <th>x</th>\n",
       "      <th>y</th>\n",
       "      <th>label</th>\n",
       "    </tr>\n",
       "  </thead>\n",
       "  <tbody>\n",
       "    <tr>\n",
       "      <th>0</th>\n",
       "      <td>-14.433861</td>\n",
       "      <td>18.999802</td>\n",
       "      <td>Viruses</td>\n",
       "    </tr>\n",
       "    <tr>\n",
       "      <th>1</th>\n",
       "      <td>-66.919785</td>\n",
       "      <td>7.222468</td>\n",
       "      <td>Viruses</td>\n",
       "    </tr>\n",
       "    <tr>\n",
       "      <th>2</th>\n",
       "      <td>-7.128510</td>\n",
       "      <td>-81.100151</td>\n",
       "      <td>Viruses</td>\n",
       "    </tr>\n",
       "    <tr>\n",
       "      <th>3</th>\n",
       "      <td>-66.961456</td>\n",
       "      <td>-58.365158</td>\n",
       "      <td>Viruses</td>\n",
       "    </tr>\n",
       "    <tr>\n",
       "      <th>4</th>\n",
       "      <td>-87.206421</td>\n",
       "      <td>-2.171012</td>\n",
       "      <td>Viruses</td>\n",
       "    </tr>\n",
       "  </tbody>\n",
       "</table>\n",
       "</div>"
      ],
      "text/plain": [
       "           x          y    label\n",
       "0 -14.433861  18.999802  Viruses\n",
       "1 -66.919785   7.222468  Viruses\n",
       "2  -7.128510 -81.100151  Viruses\n",
       "3 -66.961456 -58.365158  Viruses\n",
       "4 -87.206421  -2.171012  Viruses"
      ]
     },
     "execution_count": 51,
     "metadata": {},
     "output_type": "execute_result"
    }
   ],
   "source": [
    "df = pd.DataFrame({\"x\":X_embedded[:, 0], \"y\":X_embedded[:, 1], \"label\":labels})\n",
    "# df[\"class\"] = df[\"label\"].map({1:\"Ion channel\", 0:\"non ion channel\", 2:\"Virus\"})\n",
    "df.head()"
   ]
  },
  {
   "cell_type": "code",
   "execution_count": 54,
   "metadata": {},
   "outputs": [
    {
     "data": {
      "text/plain": [
       "<matplotlib.legend.Legend at 0x7fcef466b8e0>"
      ]
     },
     "execution_count": 54,
     "metadata": {},
     "output_type": "execute_result"
    },
    {
     "data": {
      "image/png": "[encoded data removed]",
      "text/plain": [
       "<Figure size 640x480 with 1 Axes>"
      ]
     },
     "metadata": {},
     "output_type": "display_data"
    }
   ],
   "source": [
    "import matplotlib.pyplot as plt\n",
    "for i in np.unique(df[\"label\"]):\n",
    "    subdf = df[df[\"label\"] == i]\n",
    "    plt.scatter(subdf[\"x\"], subdf[\"y\"], label=i, s=5)\n",
    "plt.legend(bbox_to_anchor=(1,1))"
   ]
  },
  {
   "cell_type": "code",
   "execution_count": 23,
   "metadata": {},
   "outputs": [
    {
     "name": "stdout",
     "output_type": "stream",
     "text": [
      "122\n"
     ]
    }
   ],
   "source": [
    "\n",
    "# testdata = trainUtils.loadPickle(\"/home/tyfei/datasets/ion_channel/Interprot/Negative_sample/virus_proteins_TMHMM_keywords.pkl\")\n",
    "# testdata = trainUtils.loadPickle(\"/home/tyfei/datasets/ion_channel/Interprot/Negative_sample/interpro_neg.pkl\")\n",
    "testdata = trainUtils.loadPickle(\"/home/tyfei/datasets/ion_channel/Interprot/ion_channel/mmseqs_kingdom/Viruses.pkl\")\n",
    "# step_points = configs[\"augmentation\"][\"step_points\"]\n",
    "# crop = configs[\"augmentation\"][\"crop\"]\n",
    "# maskp = [\n",
    "#     (i, j)\n",
    "#     for i, j in zip(\n",
    "#         configs[\"augmentation\"][\"maskp\"], configs[\"augmentation\"][\"maskpc\"]\n",
    "#     )\n",
    "# ]\n",
    "# aug = VirusDataset.DataAugmentation(step_points, maskp, crop, lens)\n",
    "print(len(testdata))\n",
    "test_set = VirusDataset.ESM3MultiTrackDatasetTEST(testdata, tracks=[\"seq_t\"]) \n",
    "\n",
    "dl = DataLoader(test_set, batch_size=1, shuffle=False) "
   ]
  },
  {
   "cell_type": "code",
   "execution_count": 20,
   "metadata": {},
   "outputs": [
    {
     "data": {
      "text/plain": [
       "dict_keys(['randomseed', 'model', 'id', 'ori_seq', 'seq_t', 'second_t', 'sasa_t', 'coordinates', 'origin', 'structure_t'])"
      ]
     },
     "execution_count": 20,
     "metadata": {},
     "output_type": "execute_result"
    }
   ],
   "source": [
    "testdata[3].keys()"
   ]
  },
  {
   "cell_type": "code",
   "execution_count": 24,
   "metadata": {},
   "outputs": [
    {
     "name": "stderr",
     "output_type": "stream",
     "text": [
      "GPU available: True (cuda), used: True\n",
      "TPU available: False, using: 0 TPU cores\n",
      "HPU available: False, using: 0 HPUs\n",
      "LOCAL_RANK: 0 - CUDA_VISIBLE_DEVICES: [0,1,2,3,4,5,6,7]\n"
     ]
    },
    {
     "name": "stdout",
     "output_type": "stream",
     "text": [
      "Predicting DataLoader 0: 100%|██████████| 122/122 [00:06<00:00, 18.57it/s]\n"
     ]
    }
   ],
   "source": [
    "trainer = L.Trainer(accelerator=\"gpu\", devices=[3]) \n",
    "res = trainer.predict(model, dl)"
   ]
  },
  {
   "cell_type": "code",
   "execution_count": 25,
   "metadata": {},
   "outputs": [
    {
     "data": {
      "text/plain": [
       "(array([30., 10.,  4.,  1.,  5.,  2.,  0.,  5., 12., 53.]),\n",
       " array([0.00141849, 0.10094205, 0.20046562, 0.29998919, 0.39951274,\n",
       "        0.49903631, 0.59855986, 0.69808346, 0.797607  , 0.89713061,\n",
       "        0.99665415]),\n",
       " <BarContainer object of 10 artists>)"
      ]
     },
     "execution_count": 25,
     "metadata": {},
     "output_type": "execute_result"
    },
    {
     "data": {
      "image/png": "[encoded data removed]",
      "text/plain": [
       "<Figure size 640x480 with 1 Axes>"
      ]
     },
     "metadata": {},
     "output_type": "display_data"
    }
   ],
   "source": [
    "pre = torch.stack(res).numpy()\n",
    "len(pre)\n",
    "import matplotlib.pyplot as plt\n",
    "plt.hist(pre)"
   ]
  },
  {
   "cell_type": "code",
   "execution_count": 22,
   "metadata": {},
   "outputs": [
    {
     "data": {
      "text/plain": [
       "(array([8839.,  297.,  137.,   80.,   70.,   55.,   43.,   69.,   74.,\n",
       "          28.]),\n",
       " array([0.00140808, 0.10092815, 0.20044823, 0.2999683 , 0.39948839,\n",
       "        0.49900848, 0.59852856, 0.69804859, 0.79756868, 0.89708877,\n",
       "        0.99660885]),\n",
       " <BarContainer object of 10 artists>)"
      ]
     },
     "execution_count": 22,
     "metadata": {},
     "output_type": "execute_result"
    },
    {
     "data": {
      "image/png": "[encoded data removed]",
      "text/plain": [
       "<Figure size 640x480 with 1 Axes>"
      ]
     },
     "metadata": {},
     "output_type": "display_data"
    }
   ],
   "source": [
    "pre = torch.stack(res).numpy()\n",
    "len(pre)\n",
    "import matplotlib.pyplot as plt\n",
    "plt.hist(pre)"
   ]
  },
  {
   "cell_type": "code",
   "execution_count": 15,
   "metadata": {},
   "outputs": [
    {
     "data": {
      "text/plain": [
       "(array([12.,  9.,  6.,  3., 12.,  3.,  6.,  1.,  4., 66.]),\n",
       " array([0.00230605, 0.10174943, 0.2011928 , 0.30063617, 0.40007955,\n",
       "        0.49952292, 0.5989663 , 0.69840968, 0.79785305, 0.89729643,\n",
       "        0.9967398 ]),\n",
       " <BarContainer object of 10 artists>)"
      ]
     },
     "execution_count": 15,
     "metadata": {},
     "output_type": "execute_result"
    },
    {
     "data": {
      "image/png": "[encoded data removed]",
      "text/plain": [
       "<Figure size 640x480 with 1 Axes>"
      ]
     },
     "metadata": {},
     "output_type": "display_data"
    }
   ],
   "source": [
    "pre = torch.stack(res).numpy()\n",
    "len(pre)\n",
    "import matplotlib.pyplot as plt\n",
    "plt.hist(pre)"
   ]
  },
  {
   "cell_type": "code",
   "execution_count": 12,
   "metadata": {},
   "outputs": [
    {
     "data": {
      "text/plain": [
       "(array([5591.,  690.,  411.,  333.,  450.,  400.,  358.,  383.,  371.,\n",
       "         705.]),\n",
       " array([0.00228902, 0.10173409, 0.20117915, 0.30062422, 0.4000693 ,\n",
       "        0.49951434, 0.59895945, 0.69840449, 0.79784954, 0.89729464,\n",
       "        0.99673969]),\n",
       " <BarContainer object of 10 artists>)"
      ]
     },
     "execution_count": 12,
     "metadata": {},
     "output_type": "execute_result"
    },
    {
     "data": {
      "image/png": "[encoded data removed]",
      "text/plain": [
       "<Figure size 640x480 with 1 Axes>"
      ]
     },
     "metadata": {},
     "output_type": "display_data"
    }
   ],
   "source": [
    "pre = torch.stack(res).numpy()\n",
    "len(pre)\n",
    "import matplotlib.pyplot as plt\n",
    "plt.hist(pre)"
   ]
  },
  {
   "cell_type": "code",
   "execution_count": 20,
   "metadata": {},
   "outputs": [
    {
     "data": {
      "text/plain": [
       "(array([5546.,  535.,  299.,  210.,  221.,  185.,  203.,  290.,  613.,\n",
       "        1590.]),\n",
       " array([0.00207064, 0.10166105, 0.20125145, 0.30084187, 0.40043226,\n",
       "        0.50002265, 0.59961307, 0.69920349, 0.79879391, 0.89838427,\n",
       "        0.99797469]),\n",
       " <BarContainer object of 10 artists>)"
      ]
     },
     "execution_count": 20,
     "metadata": {},
     "output_type": "execute_result"
    },
    {
     "data": {
      "image/png": "[encoded data removed]",
      "text/plain": [
       "<Figure size 640x480 with 1 Axes>"
      ]
     },
     "metadata": {},
     "output_type": "display_data"
    }
   ],
   "source": [
    "#Lora5mean\n",
    "pre = torch.stack(res).numpy()\n",
    "len(pre)\n",
    "import matplotlib.pyplot as plt\n",
    "plt.hist(pre)"
   ]
  },
  {
   "cell_type": "code",
   "execution_count": 16,
   "metadata": {},
   "outputs": [
    {
     "data": {
      "text/plain": [
       "(array([2394.,  514.,  303.,  264.,  243.,  277.,  274.,  337.,  742.,\n",
       "        4344.]),\n",
       " array([0.00120502, 0.1009583 , 0.20071156, 0.30046484, 0.40021813,\n",
       "        0.49997139, 0.59972465, 0.69947791, 0.79923123, 0.89898449,\n",
       "        0.99873775]),\n",
       " <BarContainer object of 10 artists>)"
      ]
     },
     "execution_count": 16,
     "metadata": {},
     "output_type": "execute_result"
    },
    {
     "data": {
      "image/png": "[encoded data removed]",
      "text/plain": [
       "<Figure size 640x480 with 1 Axes>"
      ]
     },
     "metadata": {},
     "output_type": "display_data"
    }
   ],
   "source": [
    "import matplotlib.pyplot as plt\n",
    "plt.hist(pre)"
   ]
  },
  {
   "cell_type": "code",
   "execution_count": 25,
   "metadata": {},
   "outputs": [
    {
     "data": {
      "text/plain": [
       "(array([3793.,  545.,  359.,  300.,  209.,  243.,  266.,  377.,  724.,\n",
       "        2876.]),\n",
       " array([0.00154487, 0.10118137, 0.20081787, 0.30045438, 0.40009087,\n",
       "        0.49972737, 0.59936386, 0.69900036, 0.79863685, 0.89827335,\n",
       "        0.99790984]),\n",
       " <BarContainer object of 10 artists>)"
      ]
     },
     "execution_count": 25,
     "metadata": {},
     "output_type": "execute_result"
    },
    {
     "data": {
      "image/png": "[encoded data removed]",
      "text/plain": [
       "<Figure size 640x480 with 1 Axes>"
      ]
     },
     "metadata": {},
     "output_type": "display_data"
    }
   ],
   "source": []
  },
  {
   "cell_type": "code",
   "execution_count": 18,
   "metadata": {},
   "outputs": [
    {
     "data": {
      "text/plain": [
       "(array([422.,   2.,   1.,   2.,   0.,   1.,   1.,   0.,   1.,   1.]),\n",
       " array([0.00154836, 0.10029714, 0.19904591, 0.2977947 , 0.39654347,\n",
       "        0.49529225, 0.59404105, 0.69278979, 0.7915386 , 0.89028734,\n",
       "        0.98903614]),\n",
       " <BarContainer object of 10 artists>)"
      ]
     },
     "execution_count": 18,
     "metadata": {},
     "output_type": "execute_result"
    },
    {
     "data": {
      "image/png": "[encoded data removed]",
      "text/plain": [
       "<Figure size 640x480 with 1 Axes>"
      ]
     },
     "metadata": {},
     "output_type": "display_data"
    }
   ],
   "source": [
    "import matplotlib.pyplot as plt\n",
    "plt.hist(pre)"
   ]
  },
  {
   "cell_type": "code",
   "execution_count": 14,
   "metadata": {},
   "outputs": [
    {
     "data": {
      "text/plain": [
       "(array([2.775e+03, 2.000e+01, 8.000e+00, 1.000e+00, 1.000e+00, 3.000e+00,\n",
       "        3.000e+00, 2.000e+00, 5.000e+00, 3.000e+00]),\n",
       " array([0.00154398, 0.09642326, 0.19130255, 0.28618184, 0.38106111,\n",
       "        0.47594041, 0.57081968, 0.66569895, 0.76057827, 0.85545754,\n",
       "        0.95033681]),\n",
       " <BarContainer object of 10 artists>)"
      ]
     },
     "execution_count": 14,
     "metadata": {},
     "output_type": "execute_result"
    },
    {
     "data": {
      "image/png": "[encoded data removed]",
      "text/plain": [
       "<Figure size 640x480 with 1 Axes>"
      ]
     },
     "metadata": {},
     "output_type": "display_data"
    }
   ],
   "source": [
    "import matplotlib.pyplot as plt\n",
    "plt.hist(pre)"
   ]
  },
  {
   "cell_type": "code",
   "execution_count": 9,
   "metadata": {},
   "outputs": [
    {
     "data": {
      "text/plain": [
       "(array([16.,  5.,  4.,  0.,  1.,  4.,  0.,  5.,  4., 83.]),\n",
       " array([0.00157986, 0.10121261, 0.20084538, 0.30047813, 0.40011087,\n",
       "        0.49974364, 0.59937638, 0.69900912, 0.79864192, 0.89827466,\n",
       "        0.9979074 ]),\n",
       " <BarContainer object of 10 artists>)"
      ]
     },
     "execution_count": 9,
     "metadata": {},
     "output_type": "execute_result"
    },
    {
     "data": {
      "image/png": "[encoded data removed]",
      "text/plain": [
       "<Figure size 640x480 with 1 Axes>"
      ]
     },
     "metadata": {},
     "output_type": "display_data"
    }
   ],
   "source": [
    "import matplotlib.pyplot as plt\n",
    "plt.hist(pre)"
   ]
  },
  {
   "cell_type": "code",
   "execution_count": 44,
   "metadata": {},
   "outputs": [
    {
     "data": {
      "text/plain": [
       "678063"
      ]
     },
     "execution_count": 44,
     "metadata": {},
     "output_type": "execute_result"
    }
   ],
   "source": [
    "pre = torch.concatenate(res).numpy()\n",
    "len(pre)"
   ]
  },
  {
   "cell_type": "code",
   "execution_count": 46,
   "metadata": {},
   "outputs": [
    {
     "data": {
      "text/html": [
       "<div>\n",
       "<style scoped>\n",
       "    .dataframe tbody tr th:only-of-type {\n",
       "        vertical-align: middle;\n",
       "    }\n",
       "\n",
       "    .dataframe tbody tr th {\n",
       "        vertical-align: top;\n",
       "    }\n",
       "\n",
       "    .dataframe thead th {\n",
       "        text-align: right;\n",
       "    }\n",
       "</style>\n",
       "<table border=\"1\" class=\"dataframe\">\n",
       "  <thead>\n",
       "    <tr style=\"text-align: right;\">\n",
       "      <th></th>\n",
       "      <th>id</th>\n",
       "      <th>description</th>\n",
       "      <th>origanism</th>\n",
       "      <th>predict</th>\n",
       "    </tr>\n",
       "  </thead>\n",
       "  <tbody>\n",
       "    <tr>\n",
       "      <th>0</th>\n",
       "      <td>YP_009026398.1</td>\n",
       "      <td>Arhar cryptic virus-I segment RNA-3, strain Hy...</td>\n",
       "      <td>ORGANISM  Arhar cryptic virus-I Viruses. .</td>\n",
       "      <td>0.019432</td>\n",
       "    </tr>\n",
       "    <tr>\n",
       "      <th>1</th>\n",
       "      <td>YP_009956140.1</td>\n",
       "      <td>Mycobacterium phage Doug, complete genome</td>\n",
       "      <td>ORGANISM  Mycobacterium phage Doug Viruses; Du...</td>\n",
       "      <td>0.018958</td>\n",
       "    </tr>\n",
       "    <tr>\n",
       "      <th>2</th>\n",
       "      <td>YP_009956141.1</td>\n",
       "      <td>Mycobacterium phage Doug, complete genome</td>\n",
       "      <td>ORGANISM  Mycobacterium phage Doug Viruses; Du...</td>\n",
       "      <td>0.029809</td>\n",
       "    </tr>\n",
       "    <tr>\n",
       "      <th>3</th>\n",
       "      <td>YP_009956142.1</td>\n",
       "      <td>Mycobacterium phage Doug, complete genome</td>\n",
       "      <td>ORGANISM  Mycobacterium phage Doug Viruses; Du...</td>\n",
       "      <td>0.032612</td>\n",
       "    </tr>\n",
       "    <tr>\n",
       "      <th>4</th>\n",
       "      <td>YP_009956143.1</td>\n",
       "      <td>Mycobacterium phage Doug, complete genome</td>\n",
       "      <td>ORGANISM  Mycobacterium phage Doug Viruses; Du...</td>\n",
       "      <td>0.040137</td>\n",
       "    </tr>\n",
       "  </tbody>\n",
       "</table>\n",
       "</div>"
      ],
      "text/plain": [
       "               id                                        description  \\\n",
       "0  YP_009026398.1  Arhar cryptic virus-I segment RNA-3, strain Hy...   \n",
       "1  YP_009956140.1          Mycobacterium phage Doug, complete genome   \n",
       "2  YP_009956141.1          Mycobacterium phage Doug, complete genome   \n",
       "3  YP_009956142.1          Mycobacterium phage Doug, complete genome   \n",
       "4  YP_009956143.1          Mycobacterium phage Doug, complete genome   \n",
       "\n",
       "                                           origanism   predict  \n",
       "0         ORGANISM  Arhar cryptic virus-I Viruses. .  0.019432  \n",
       "1  ORGANISM  Mycobacterium phage Doug Viruses; Du...  0.018958  \n",
       "2  ORGANISM  Mycobacterium phage Doug Viruses; Du...  0.029809  \n",
       "3  ORGANISM  Mycobacterium phage Doug Viruses; Du...  0.032612  \n",
       "4  ORGANISM  Mycobacterium phage Doug Viruses; Du...  0.040137  "
      ]
     },
     "execution_count": 46,
     "metadata": {},
     "output_type": "execute_result"
    }
   ],
   "source": [
    "ids = [] \n",
    "dess = [] \n",
    "oris = []\n",
    "for (id, des, ori) in X2_labels:\n",
    "    ids.append(id)\n",
    "    dess.append(des)\n",
    "    oris.append(ori)\n",
    "df = pd.DataFrame({\"id\":ids, \"description\":dess, \"origanism\":oris, \"predict\":pre})\n",
    "df.head()"
   ]
  },
  {
   "cell_type": "code",
   "execution_count": 59,
   "metadata": {},
   "outputs": [],
   "source": [
    "df.to_csv(\"./temp/lora3contiune.csv\")"
   ]
  },
  {
   "cell_type": "code",
   "execution_count": 50,
   "metadata": {},
   "outputs": [
    {
     "data": {
      "text/plain": [
       "(array([False,  True,  True, ..., False, False, False]), 541006)"
      ]
     },
     "execution_count": 50,
     "metadata": {},
     "output_type": "execute_result"
    }
   ],
   "source": [
    "phage = np.array([\"phage\" in name for name in df[\"origanism\"]])\n",
    "phage, np.sum(phage)"
   ]
  },
  {
   "cell_type": "code",
   "execution_count": 51,
   "metadata": {},
   "outputs": [],
   "source": [
    "virusdf = df[~phage]"
   ]
  },
  {
   "cell_type": "code",
   "execution_count": 25,
   "metadata": {},
   "outputs": [
    {
     "data": {
      "text/plain": [
       "(137057, 12992)"
      ]
     },
     "execution_count": 25,
     "metadata": {},
     "output_type": "execute_result"
    }
   ],
   "source": [
    "len(virusdf), sum(virusdf[\"is\"])"
   ]
  },
  {
   "cell_type": "code",
   "execution_count": 52,
   "metadata": {},
   "outputs": [
    {
     "data": {
      "text/html": [
       "<div>\n",
       "<style scoped>\n",
       "    .dataframe tbody tr th:only-of-type {\n",
       "        vertical-align: middle;\n",
       "    }\n",
       "\n",
       "    .dataframe tbody tr th {\n",
       "        vertical-align: top;\n",
       "    }\n",
       "\n",
       "    .dataframe thead th {\n",
       "        text-align: right;\n",
       "    }\n",
       "</style>\n",
       "<table border=\"1\" class=\"dataframe\">\n",
       "  <thead>\n",
       "    <tr style=\"text-align: right;\">\n",
       "      <th></th>\n",
       "      <th>id</th>\n",
       "      <th>description</th>\n",
       "      <th>origanism</th>\n",
       "      <th>predict</th>\n",
       "    </tr>\n",
       "  </thead>\n",
       "  <tbody>\n",
       "    <tr>\n",
       "      <th>3054</th>\n",
       "      <td>YP_009091851.1</td>\n",
       "      <td>Erinnyis ello granulovirus, complete genome</td>\n",
       "      <td>ORGANISM  Erinnyis ello granulovirus Viruses; ...</td>\n",
       "      <td>0.993528</td>\n",
       "    </tr>\n",
       "    <tr>\n",
       "      <th>3088</th>\n",
       "      <td>YP_009091885.1</td>\n",
       "      <td>Erinnyis ello granulovirus, complete genome</td>\n",
       "      <td>ORGANISM  Erinnyis ello granulovirus Viruses; ...</td>\n",
       "      <td>0.985456</td>\n",
       "    </tr>\n",
       "    <tr>\n",
       "      <th>3095</th>\n",
       "      <td>YP_009091892.1</td>\n",
       "      <td>Erinnyis ello granulovirus, complete genome</td>\n",
       "      <td>ORGANISM  Erinnyis ello granulovirus Viruses; ...</td>\n",
       "      <td>0.985354</td>\n",
       "    </tr>\n",
       "    <tr>\n",
       "      <th>3144</th>\n",
       "      <td>YP_009091941.1</td>\n",
       "      <td>Erinnyis ello granulovirus, complete genome</td>\n",
       "      <td>ORGANISM  Erinnyis ello granulovirus Viruses; ...</td>\n",
       "      <td>0.991594</td>\n",
       "    </tr>\n",
       "    <tr>\n",
       "      <th>3327</th>\n",
       "      <td>YP_004598986.1</td>\n",
       "      <td>Cavally virus, complete genome</td>\n",
       "      <td>ORGANISM  Cavally virus Viruses; Riboviria; Or...</td>\n",
       "      <td>0.986788</td>\n",
       "    </tr>\n",
       "    <tr>\n",
       "      <th>...</th>\n",
       "      <td>...</td>\n",
       "      <td>...</td>\n",
       "      <td>...</td>\n",
       "      <td>...</td>\n",
       "    </tr>\n",
       "    <tr>\n",
       "      <th>677592</th>\n",
       "      <td>YP_308941.1</td>\n",
       "      <td>Trichoplusia ni SNPV, complete genome</td>\n",
       "      <td>ORGANISM  Trichoplusia ni single nucleopolyhed...</td>\n",
       "      <td>0.995656</td>\n",
       "    </tr>\n",
       "    <tr>\n",
       "      <th>677633</th>\n",
       "      <td>YP_308982.1</td>\n",
       "      <td>Trichoplusia ni SNPV, complete genome</td>\n",
       "      <td>ORGANISM  Trichoplusia ni single nucleopolyhed...</td>\n",
       "      <td>0.985031</td>\n",
       "    </tr>\n",
       "    <tr>\n",
       "      <th>677737</th>\n",
       "      <td>YP_007378947.1</td>\n",
       "      <td>Halovirus HVTV-1, complete genome</td>\n",
       "      <td>ORGANISM  Haloarcula vallismortis tailed virus...</td>\n",
       "      <td>0.990092</td>\n",
       "    </tr>\n",
       "    <tr>\n",
       "      <th>677743</th>\n",
       "      <td>YP_007378953.1</td>\n",
       "      <td>Halovirus HVTV-1, complete genome</td>\n",
       "      <td>ORGANISM  Haloarcula vallismortis tailed virus...</td>\n",
       "      <td>0.989788</td>\n",
       "    </tr>\n",
       "    <tr>\n",
       "      <th>677834</th>\n",
       "      <td>YP_007379044.1</td>\n",
       "      <td>Halovirus HVTV-1, complete genome</td>\n",
       "      <td>ORGANISM  Haloarcula vallismortis tailed virus...</td>\n",
       "      <td>0.988976</td>\n",
       "    </tr>\n",
       "  </tbody>\n",
       "</table>\n",
       "<p>3035 rows × 4 columns</p>\n",
       "</div>"
      ],
      "text/plain": [
       "                    id                                  description  \\\n",
       "3054    YP_009091851.1  Erinnyis ello granulovirus, complete genome   \n",
       "3088    YP_009091885.1  Erinnyis ello granulovirus, complete genome   \n",
       "3095    YP_009091892.1  Erinnyis ello granulovirus, complete genome   \n",
       "3144    YP_009091941.1  Erinnyis ello granulovirus, complete genome   \n",
       "3327    YP_004598986.1               Cavally virus, complete genome   \n",
       "...                ...                                          ...   \n",
       "677592     YP_308941.1        Trichoplusia ni SNPV, complete genome   \n",
       "677633     YP_308982.1        Trichoplusia ni SNPV, complete genome   \n",
       "677737  YP_007378947.1            Halovirus HVTV-1, complete genome   \n",
       "677743  YP_007378953.1            Halovirus HVTV-1, complete genome   \n",
       "677834  YP_007379044.1            Halovirus HVTV-1, complete genome   \n",
       "\n",
       "                                                origanism   predict  \n",
       "3054    ORGANISM  Erinnyis ello granulovirus Viruses; ...  0.993528  \n",
       "3088    ORGANISM  Erinnyis ello granulovirus Viruses; ...  0.985456  \n",
       "3095    ORGANISM  Erinnyis ello granulovirus Viruses; ...  0.985354  \n",
       "3144    ORGANISM  Erinnyis ello granulovirus Viruses; ...  0.991594  \n",
       "3327    ORGANISM  Cavally virus Viruses; Riboviria; Or...  0.986788  \n",
       "...                                                   ...       ...  \n",
       "677592  ORGANISM  Trichoplusia ni single nucleopolyhed...  0.995656  \n",
       "677633  ORGANISM  Trichoplusia ni single nucleopolyhed...  0.985031  \n",
       "677737  ORGANISM  Haloarcula vallismortis tailed virus...  0.990092  \n",
       "677743  ORGANISM  Haloarcula vallismortis tailed virus...  0.989788  \n",
       "677834  ORGANISM  Haloarcula vallismortis tailed virus...  0.988976  \n",
       "\n",
       "[3035 rows x 4 columns]"
      ]
     },
     "execution_count": 52,
     "metadata": {},
     "output_type": "execute_result"
    }
   ],
   "source": [
    "virusdf[virusdf[\"predict\"] > 0.985]"
   ]
  },
  {
   "cell_type": "code",
   "execution_count": 55,
   "metadata": {},
   "outputs": [
    {
     "data": {
      "text/plain": [
       "(33929, 678063)"
      ]
     },
     "execution_count": 55,
     "metadata": {},
     "output_type": "execute_result"
    }
   ],
   "source": [
    "df[\"is\"] = df[\"predict\"] > 0.90\n",
    "subdf = df[df[\"is\"]]\n",
    "len(subdf), len(df)"
   ]
  },
  {
   "cell_type": "code",
   "execution_count": 14,
   "metadata": {},
   "outputs": [
    {
     "data": {
      "text/plain": [
       "[True,\n",
       " True,\n",
       " True,\n",
       " True,\n",
       " True,\n",
       " True,\n",
       " True,\n",
       " True,\n",
       " True,\n",
       " True,\n",
       " True,\n",
       " True,\n",
       " True,\n",
       " True,\n",
       " True,\n",
       " True,\n",
       " True,\n",
       " True,\n",
       " True,\n",
       " True,\n",
       " True,\n",
       " True,\n",
       " True,\n",
       " True,\n",
       " True,\n",
       " True,\n",
       " True,\n",
       " True,\n",
       " True,\n",
       " True,\n",
       " True,\n",
       " True,\n",
       " True,\n",
       " True,\n",
       " True,\n",
       " True,\n",
       " True,\n",
       " True,\n",
       " True,\n",
       " True,\n",
       " True,\n",
       " True,\n",
       " True,\n",
       " True,\n",
       " True,\n",
       " True,\n",
       " True,\n",
       " True,\n",
       " True,\n",
       " True,\n",
       " True,\n",
       " True,\n",
       " True,\n",
       " True,\n",
       " True,\n",
       " True,\n",
       " True,\n",
       " True,\n",
       " True,\n",
       " True,\n",
       " True,\n",
       " True,\n",
       " True,\n",
       " True,\n",
       " True,\n",
       " True,\n",
       " True,\n",
       " True,\n",
       " True,\n",
       " True,\n",
       " True,\n",
       " True,\n",
       " True,\n",
       " True,\n",
       " True,\n",
       " True,\n",
       " True,\n",
       " True,\n",
       " True,\n",
       " True,\n",
       " True,\n",
       " True,\n",
       " True,\n",
       " True,\n",
       " True,\n",
       " True,\n",
       " True,\n",
       " True,\n",
       " True,\n",
       " True,\n",
       " True,\n",
       " True,\n",
       " True,\n",
       " True,\n",
       " True,\n",
       " True,\n",
       " True,\n",
       " True,\n",
       " True,\n",
       " True,\n",
       " True,\n",
       " True,\n",
       " True,\n",
       " True,\n",
       " True,\n",
       " True,\n",
       " True,\n",
       " True,\n",
       " True,\n",
       " True,\n",
       " True,\n",
       " True,\n",
       " True,\n",
       " True,\n",
       " True,\n",
       " True,\n",
       " True,\n",
       " True,\n",
       " True,\n",
       " True,\n",
       " True,\n",
       " True,\n",
       " True,\n",
       " True,\n",
       " True,\n",
       " True,\n",
       " True,\n",
       " True,\n",
       " True,\n",
       " True,\n",
       " True,\n",
       " True,\n",
       " True,\n",
       " True,\n",
       " True,\n",
       " True,\n",
       " True,\n",
       " True,\n",
       " True,\n",
       " True,\n",
       " True,\n",
       " True,\n",
       " False,\n",
       " True,\n",
       " True,\n",
       " True,\n",
       " True,\n",
       " True,\n",
       " True,\n",
       " True,\n",
       " True,\n",
       " True,\n",
       " True,\n",
       " True,\n",
       " True,\n",
       " True,\n",
       " True,\n",
       " True,\n",
       " True,\n",
       " True,\n",
       " True,\n",
       " True,\n",
       " True,\n",
       " True,\n",
       " True,\n",
       " True,\n",
       " True,\n",
       " True,\n",
       " True,\n",
       " True,\n",
       " True,\n",
       " True,\n",
       " True,\n",
       " True,\n",
       " True,\n",
       " True,\n",
       " True,\n",
       " True,\n",
       " True,\n",
       " True,\n",
       " True,\n",
       " True,\n",
       " True,\n",
       " True,\n",
       " True,\n",
       " True,\n",
       " True,\n",
       " True,\n",
       " True,\n",
       " True,\n",
       " True,\n",
       " True,\n",
       " True,\n",
       " True,\n",
       " True,\n",
       " True,\n",
       " True,\n",
       " True,\n",
       " True,\n",
       " True,\n",
       " True,\n",
       " True,\n",
       " True,\n",
       " True,\n",
       " True,\n",
       " True,\n",
       " True,\n",
       " True,\n",
       " True,\n",
       " True,\n",
       " True,\n",
       " True,\n",
       " True,\n",
       " True,\n",
       " True,\n",
       " True,\n",
       " True,\n",
       " True,\n",
       " True,\n",
       " True,\n",
       " True,\n",
       " True,\n",
       " True,\n",
       " True,\n",
       " True,\n",
       " True,\n",
       " True,\n",
       " True,\n",
       " True,\n",
       " True,\n",
       " True,\n",
       " True,\n",
       " True,\n",
       " True,\n",
       " True,\n",
       " True,\n",
       " True,\n",
       " True,\n",
       " True,\n",
       " True,\n",
       " True,\n",
       " True,\n",
       " True,\n",
       " True,\n",
       " True,\n",
       " True,\n",
       " True,\n",
       " True,\n",
       " True,\n",
       " True,\n",
       " True,\n",
       " True,\n",
       " True,\n",
       " True,\n",
       " True,\n",
       " True,\n",
       " True,\n",
       " True,\n",
       " True,\n",
       " True,\n",
       " True,\n",
       " True,\n",
       " True,\n",
       " True,\n",
       " True,\n",
       " True,\n",
       " True,\n",
       " True,\n",
       " True,\n",
       " True,\n",
       " True,\n",
       " True,\n",
       " True,\n",
       " True,\n",
       " True,\n",
       " True,\n",
       " True,\n",
       " True,\n",
       " True,\n",
       " True,\n",
       " True,\n",
       " True,\n",
       " True,\n",
       " True,\n",
       " True,\n",
       " True,\n",
       " True,\n",
       " True,\n",
       " True,\n",
       " True,\n",
       " True,\n",
       " True,\n",
       " True,\n",
       " True,\n",
       " True,\n",
       " True,\n",
       " True,\n",
       " True,\n",
       " True,\n",
       " True,\n",
       " True,\n",
       " True,\n",
       " True,\n",
       " True,\n",
       " True,\n",
       " True,\n",
       " True,\n",
       " True,\n",
       " True,\n",
       " True,\n",
       " True,\n",
       " True,\n",
       " True,\n",
       " True,\n",
       " True,\n",
       " True,\n",
       " True,\n",
       " True,\n",
       " True,\n",
       " True,\n",
       " True,\n",
       " True,\n",
       " True,\n",
       " True,\n",
       " True,\n",
       " True,\n",
       " True,\n",
       " True,\n",
       " True,\n",
       " True,\n",
       " True,\n",
       " True,\n",
       " True,\n",
       " True,\n",
       " True,\n",
       " True,\n",
       " True,\n",
       " True,\n",
       " True,\n",
       " True,\n",
       " True,\n",
       " True,\n",
       " True,\n",
       " True,\n",
       " True,\n",
       " True,\n",
       " True,\n",
       " True,\n",
       " True,\n",
       " True,\n",
       " True,\n",
       " True,\n",
       " True,\n",
       " True,\n",
       " True,\n",
       " True,\n",
       " True,\n",
       " True,\n",
       " True,\n",
       " True,\n",
       " True,\n",
       " True,\n",
       " True,\n",
       " True,\n",
       " True,\n",
       " True,\n",
       " True,\n",
       " True,\n",
       " True,\n",
       " True,\n",
       " True,\n",
       " True,\n",
       " True,\n",
       " True,\n",
       " True,\n",
       " True,\n",
       " True,\n",
       " True,\n",
       " True,\n",
       " True,\n",
       " True,\n",
       " True,\n",
       " True,\n",
       " True,\n",
       " True,\n",
       " True,\n",
       " True,\n",
       " True,\n",
       " True,\n",
       " True,\n",
       " True,\n",
       " True,\n",
       " True,\n",
       " True,\n",
       " True,\n",
       " True,\n",
       " True,\n",
       " True,\n",
       " True,\n",
       " True,\n",
       " True,\n",
       " True,\n",
       " True,\n",
       " True,\n",
       " True,\n",
       " True,\n",
       " True,\n",
       " True,\n",
       " True,\n",
       " True,\n",
       " True,\n",
       " True,\n",
       " True,\n",
       " True,\n",
       " True,\n",
       " True,\n",
       " True,\n",
       " True,\n",
       " True,\n",
       " True,\n",
       " True,\n",
       " True,\n",
       " True,\n",
       " True,\n",
       " True,\n",
       " True,\n",
       " True,\n",
       " True,\n",
       " True,\n",
       " True,\n",
       " True,\n",
       " True,\n",
       " True,\n",
       " True,\n",
       " True,\n",
       " True,\n",
       " True,\n",
       " True,\n",
       " True,\n",
       " True,\n",
       " True,\n",
       " True,\n",
       " True,\n",
       " True,\n",
       " True,\n",
       " True,\n",
       " True,\n",
       " True,\n",
       " True,\n",
       " True,\n",
       " True,\n",
       " True,\n",
       " True,\n",
       " True,\n",
       " True,\n",
       " True,\n",
       " True,\n",
       " True,\n",
       " True,\n",
       " True,\n",
       " True,\n",
       " True,\n",
       " True,\n",
       " True,\n",
       " True,\n",
       " True,\n",
       " True,\n",
       " True,\n",
       " True,\n",
       " True,\n",
       " True,\n",
       " True,\n",
       " True,\n",
       " True,\n",
       " True,\n",
       " True,\n",
       " True,\n",
       " True,\n",
       " True,\n",
       " True,\n",
       " True,\n",
       " True,\n",
       " True,\n",
       " True,\n",
       " True,\n",
       " True,\n",
       " True,\n",
       " True,\n",
       " True,\n",
       " True,\n",
       " True,\n",
       " True,\n",
       " True,\n",
       " True,\n",
       " True,\n",
       " True,\n",
       " False,\n",
       " True,\n",
       " True,\n",
       " True,\n",
       " True,\n",
       " True,\n",
       " True,\n",
       " True,\n",
       " True,\n",
       " True,\n",
       " True,\n",
       " True,\n",
       " True,\n",
       " True,\n",
       " True,\n",
       " True,\n",
       " True,\n",
       " True,\n",
       " True,\n",
       " True,\n",
       " True,\n",
       " True,\n",
       " True,\n",
       " True,\n",
       " True,\n",
       " True,\n",
       " True,\n",
       " True,\n",
       " True,\n",
       " True,\n",
       " True,\n",
       " True,\n",
       " True,\n",
       " True,\n",
       " True,\n",
       " False,\n",
       " False,\n",
       " False,\n",
       " False,\n",
       " False,\n",
       " False,\n",
       " False,\n",
       " False,\n",
       " False,\n",
       " False,\n",
       " False,\n",
       " False,\n",
       " False,\n",
       " False,\n",
       " False,\n",
       " False,\n",
       " False,\n",
       " True,\n",
       " True,\n",
       " True,\n",
       " True,\n",
       " True,\n",
       " True,\n",
       " True,\n",
       " True,\n",
       " True,\n",
       " True,\n",
       " True,\n",
       " True,\n",
       " True,\n",
       " True,\n",
       " True,\n",
       " True,\n",
       " True,\n",
       " True,\n",
       " True,\n",
       " True,\n",
       " True,\n",
       " True,\n",
       " True,\n",
       " True,\n",
       " True,\n",
       " True,\n",
       " True,\n",
       " True,\n",
       " True,\n",
       " True,\n",
       " True,\n",
       " True,\n",
       " True,\n",
       " True,\n",
       " True,\n",
       " True,\n",
       " True,\n",
       " True,\n",
       " True,\n",
       " True,\n",
       " True,\n",
       " True,\n",
       " True,\n",
       " True,\n",
       " True,\n",
       " True,\n",
       " True,\n",
       " True,\n",
       " True,\n",
       " True,\n",
       " True,\n",
       " True,\n",
       " True,\n",
       " True,\n",
       " True,\n",
       " True,\n",
       " True,\n",
       " True,\n",
       " True,\n",
       " True,\n",
       " True,\n",
       " True,\n",
       " True,\n",
       " True,\n",
       " True,\n",
       " True,\n",
       " True,\n",
       " True,\n",
       " True,\n",
       " True,\n",
       " True,\n",
       " True,\n",
       " True,\n",
       " True,\n",
       " True,\n",
       " True,\n",
       " True,\n",
       " True,\n",
       " True,\n",
       " False,\n",
       " False,\n",
       " False,\n",
       " False,\n",
       " False,\n",
       " False,\n",
       " False,\n",
       " False,\n",
       " False,\n",
       " False,\n",
       " False,\n",
       " False,\n",
       " False,\n",
       " False,\n",
       " False,\n",
       " True,\n",
       " True,\n",
       " True,\n",
       " True,\n",
       " True,\n",
       " True,\n",
       " True,\n",
       " True,\n",
       " True,\n",
       " True,\n",
       " True,\n",
       " True,\n",
       " True,\n",
       " True,\n",
       " True,\n",
       " True,\n",
       " True,\n",
       " True,\n",
       " True,\n",
       " True,\n",
       " True,\n",
       " True,\n",
       " True,\n",
       " True,\n",
       " True,\n",
       " True,\n",
       " True,\n",
       " True,\n",
       " True,\n",
       " True,\n",
       " True,\n",
       " True,\n",
       " True,\n",
       " True,\n",
       " True,\n",
       " True,\n",
       " True,\n",
       " True,\n",
       " True,\n",
       " True,\n",
       " True,\n",
       " True,\n",
       " True,\n",
       " True,\n",
       " True,\n",
       " True,\n",
       " True,\n",
       " True,\n",
       " True,\n",
       " True,\n",
       " True,\n",
       " True,\n",
       " True,\n",
       " True,\n",
       " True,\n",
       " True,\n",
       " True,\n",
       " True,\n",
       " True,\n",
       " True,\n",
       " True,\n",
       " True,\n",
       " True,\n",
       " True,\n",
       " True,\n",
       " True,\n",
       " True,\n",
       " True,\n",
       " True,\n",
       " True,\n",
       " True,\n",
       " True,\n",
       " True,\n",
       " True,\n",
       " True,\n",
       " True,\n",
       " True,\n",
       " True,\n",
       " True,\n",
       " True,\n",
       " True,\n",
       " True,\n",
       " True,\n",
       " True,\n",
       " True,\n",
       " True,\n",
       " True,\n",
       " True,\n",
       " True,\n",
       " True,\n",
       " True,\n",
       " True,\n",
       " True,\n",
       " True,\n",
       " True,\n",
       " True,\n",
       " True,\n",
       " True,\n",
       " True,\n",
       " True,\n",
       " True,\n",
       " True,\n",
       " True,\n",
       " True,\n",
       " True,\n",
       " True,\n",
       " True,\n",
       " True,\n",
       " True,\n",
       " True,\n",
       " True,\n",
       " True,\n",
       " True,\n",
       " True,\n",
       " True,\n",
       " True,\n",
       " True,\n",
       " True,\n",
       " True,\n",
       " True,\n",
       " True,\n",
       " True,\n",
       " True,\n",
       " True,\n",
       " True,\n",
       " True,\n",
       " True,\n",
       " True,\n",
       " True,\n",
       " True,\n",
       " True,\n",
       " True,\n",
       " True,\n",
       " True,\n",
       " True,\n",
       " True,\n",
       " True,\n",
       " True,\n",
       " True,\n",
       " True,\n",
       " True,\n",
       " True,\n",
       " True,\n",
       " True,\n",
       " True,\n",
       " True,\n",
       " True,\n",
       " True,\n",
       " True,\n",
       " True,\n",
       " True,\n",
       " True,\n",
       " True,\n",
       " True,\n",
       " True,\n",
       " True,\n",
       " True,\n",
       " True,\n",
       " True,\n",
       " True,\n",
       " True,\n",
       " True,\n",
       " True,\n",
       " True,\n",
       " True,\n",
       " True,\n",
       " True,\n",
       " True,\n",
       " True,\n",
       " True,\n",
       " True,\n",
       " True,\n",
       " True,\n",
       " True,\n",
       " True,\n",
       " True,\n",
       " True,\n",
       " True,\n",
       " True,\n",
       " True,\n",
       " True,\n",
       " True,\n",
       " True,\n",
       " True,\n",
       " True,\n",
       " True,\n",
       " True,\n",
       " True,\n",
       " True,\n",
       " True,\n",
       " True,\n",
       " True,\n",
       " True,\n",
       " True,\n",
       " True,\n",
       " True,\n",
       " True,\n",
       " True,\n",
       " True,\n",
       " True,\n",
       " True,\n",
       " True,\n",
       " True,\n",
       " True,\n",
       " True,\n",
       " True,\n",
       " True,\n",
       " True,\n",
       " True,\n",
       " False,\n",
       " False,\n",
       " False,\n",
       " True,\n",
       " True,\n",
       " True,\n",
       " True,\n",
       " True,\n",
       " True,\n",
       " True,\n",
       " True,\n",
       " True,\n",
       " True,\n",
       " True,\n",
       " True,\n",
       " True,\n",
       " True,\n",
       " True,\n",
       " True,\n",
       " True,\n",
       " True,\n",
       " True,\n",
       " True,\n",
       " True,\n",
       " True,\n",
       " True,\n",
       " True,\n",
       " True,\n",
       " True,\n",
       " True,\n",
       " True,\n",
       " False,\n",
       " True,\n",
       " True,\n",
       " True,\n",
       " True,\n",
       " True,\n",
       " True,\n",
       " True,\n",
       " True,\n",
       " True,\n",
       " True,\n",
       " True,\n",
       " True,\n",
       " True,\n",
       " True,\n",
       " False,\n",
       " False,\n",
       " False,\n",
       " False,\n",
       " False,\n",
       " False,\n",
       " False,\n",
       " False,\n",
       " False,\n",
       " False,\n",
       " False,\n",
       " False,\n",
       " False,\n",
       " False,\n",
       " False,\n",
       " False,\n",
       " False,\n",
       " False,\n",
       " False,\n",
       " False,\n",
       " False,\n",
       " False,\n",
       " False,\n",
       " False,\n",
       " False,\n",
       " False,\n",
       " False,\n",
       " False,\n",
       " False,\n",
       " False,\n",
       " False,\n",
       " True,\n",
       " True,\n",
       " True,\n",
       " True,\n",
       " True,\n",
       " True,\n",
       " True,\n",
       " True,\n",
       " True,\n",
       " True,\n",
       " True,\n",
       " True,\n",
       " True,\n",
       " True,\n",
       " True,\n",
       " True,\n",
       " True,\n",
       " True,\n",
       " False,\n",
       " False,\n",
       " True,\n",
       " True,\n",
       " True,\n",
       " True,\n",
       " True,\n",
       " True,\n",
       " True,\n",
       " True,\n",
       " True,\n",
       " True,\n",
       " True,\n",
       " True,\n",
       " True,\n",
       " True,\n",
       " True,\n",
       " True,\n",
       " True,\n",
       " True,\n",
       " True,\n",
       " True,\n",
       " True,\n",
       " True,\n",
       " True,\n",
       " True,\n",
       " True,\n",
       " True,\n",
       " True,\n",
       " True,\n",
       " True,\n",
       " True,\n",
       " True,\n",
       " True,\n",
       " True,\n",
       " True,\n",
       " True,\n",
       " True,\n",
       " True,\n",
       " True,\n",
       " True,\n",
       " True,\n",
       " True,\n",
       " True,\n",
       " True,\n",
       " True,\n",
       " True,\n",
       " True,\n",
       " True,\n",
       " True,\n",
       " True,\n",
       " True,\n",
       " True,\n",
       " True,\n",
       " ...]"
      ]
     },
     "execution_count": 14,
     "metadata": {},
     "output_type": "execute_result"
    }
   ],
   "source": [
    "phage = [\"phage\" in name for name in subdf[\"origanism\"]]\n",
    "phage"
   ]
  },
  {
   "cell_type": "code",
   "execution_count": null,
   "metadata": {},
   "outputs": [],
   "source": []
  },
  {
   "cell_type": "code",
   "execution_count": 56,
   "metadata": {},
   "outputs": [
    {
     "data": {
      "text/html": [
       "<div>\n",
       "<style scoped>\n",
       "    .dataframe tbody tr th:only-of-type {\n",
       "        vertical-align: middle;\n",
       "    }\n",
       "\n",
       "    .dataframe tbody tr th {\n",
       "        vertical-align: top;\n",
       "    }\n",
       "\n",
       "    .dataframe thead th {\n",
       "        text-align: right;\n",
       "    }\n",
       "</style>\n",
       "<table border=\"1\" class=\"dataframe\">\n",
       "  <thead>\n",
       "    <tr style=\"text-align: right;\">\n",
       "      <th></th>\n",
       "      <th>id</th>\n",
       "      <th>description</th>\n",
       "      <th>origanism</th>\n",
       "      <th>predict</th>\n",
       "      <th>is</th>\n",
       "    </tr>\n",
       "  </thead>\n",
       "  <tbody>\n",
       "    <tr>\n",
       "      <th>29</th>\n",
       "      <td>YP_009956168.1</td>\n",
       "      <td>Mycobacterium phage Doug, complete genome</td>\n",
       "      <td>ORGANISM  Mycobacterium phage Doug Viruses; Du...</td>\n",
       "      <td>0.900197</td>\n",
       "      <td>True</td>\n",
       "    </tr>\n",
       "    <tr>\n",
       "      <th>34</th>\n",
       "      <td>YP_009956173.1</td>\n",
       "      <td>Mycobacterium phage Doug, complete genome</td>\n",
       "      <td>ORGANISM  Mycobacterium phage Doug Viruses; Du...</td>\n",
       "      <td>0.976232</td>\n",
       "      <td>True</td>\n",
       "    </tr>\n",
       "    <tr>\n",
       "      <th>38</th>\n",
       "      <td>YP_009956177.1</td>\n",
       "      <td>Mycobacterium phage Doug, complete genome</td>\n",
       "      <td>ORGANISM  Mycobacterium phage Doug Viruses; Du...</td>\n",
       "      <td>0.972736</td>\n",
       "      <td>True</td>\n",
       "    </tr>\n",
       "    <tr>\n",
       "      <th>72</th>\n",
       "      <td>YP_009956211.1</td>\n",
       "      <td>Mycobacterium phage Doug, complete genome</td>\n",
       "      <td>ORGANISM  Mycobacterium phage Doug Viruses; Du...</td>\n",
       "      <td>0.928504</td>\n",
       "      <td>True</td>\n",
       "    </tr>\n",
       "    <tr>\n",
       "      <th>114</th>\n",
       "      <td>NP_932364.1</td>\n",
       "      <td>Aeromonas phage 44RR2.8t, complete genome</td>\n",
       "      <td>ORGANISM  Aeromonas phage 44RR2.8t Viruses; Du...</td>\n",
       "      <td>0.918274</td>\n",
       "      <td>True</td>\n",
       "    </tr>\n",
       "    <tr>\n",
       "      <th>...</th>\n",
       "      <td>...</td>\n",
       "      <td>...</td>\n",
       "      <td>...</td>\n",
       "      <td>...</td>\n",
       "      <td>...</td>\n",
       "    </tr>\n",
       "    <tr>\n",
       "      <th>677842</th>\n",
       "      <td>YP_007379052.1</td>\n",
       "      <td>Halovirus HVTV-1, complete genome</td>\n",
       "      <td>ORGANISM  Haloarcula vallismortis tailed virus...</td>\n",
       "      <td>0.960302</td>\n",
       "      <td>True</td>\n",
       "    </tr>\n",
       "    <tr>\n",
       "      <th>677870</th>\n",
       "      <td>YP_009664766.1</td>\n",
       "      <td>Passion fruit yellow mosaic virus polymerase p...</td>\n",
       "      <td>ORGANISM  Passion fruit yellow mosaic virus Vi...</td>\n",
       "      <td>0.983582</td>\n",
       "      <td>True</td>\n",
       "    </tr>\n",
       "    <tr>\n",
       "      <th>677875</th>\n",
       "      <td>YP_009801309.1</td>\n",
       "      <td>Klebsiella phage KP32_isolate 192, complete ge...</td>\n",
       "      <td>ORGANISM  Klebsiella phage KP32_isolate 192 Vi...</td>\n",
       "      <td>0.926805</td>\n",
       "      <td>True</td>\n",
       "    </tr>\n",
       "    <tr>\n",
       "      <th>677910</th>\n",
       "      <td>YP_009801344.1</td>\n",
       "      <td>Klebsiella phage KP32_isolate 192, complete ge...</td>\n",
       "      <td>ORGANISM  Klebsiella phage KP32_isolate 192 Vi...</td>\n",
       "      <td>0.942260</td>\n",
       "      <td>True</td>\n",
       "    </tr>\n",
       "    <tr>\n",
       "      <th>677928</th>\n",
       "      <td>YP_009147526.1</td>\n",
       "      <td>Erwinia phage phiEa2809, complete genome</td>\n",
       "      <td>ORGANISM  Erwinia phage phiEa2809 Viruses; Dup...</td>\n",
       "      <td>0.912912</td>\n",
       "      <td>True</td>\n",
       "    </tr>\n",
       "  </tbody>\n",
       "</table>\n",
       "<p>33929 rows × 5 columns</p>\n",
       "</div>"
      ],
      "text/plain": [
       "                    id                                        description  \\\n",
       "29      YP_009956168.1          Mycobacterium phage Doug, complete genome   \n",
       "34      YP_009956173.1          Mycobacterium phage Doug, complete genome   \n",
       "38      YP_009956177.1          Mycobacterium phage Doug, complete genome   \n",
       "72      YP_009956211.1          Mycobacterium phage Doug, complete genome   \n",
       "114        NP_932364.1          Aeromonas phage 44RR2.8t, complete genome   \n",
       "...                ...                                                ...   \n",
       "677842  YP_007379052.1                  Halovirus HVTV-1, complete genome   \n",
       "677870  YP_009664766.1  Passion fruit yellow mosaic virus polymerase p...   \n",
       "677875  YP_009801309.1  Klebsiella phage KP32_isolate 192, complete ge...   \n",
       "677910  YP_009801344.1  Klebsiella phage KP32_isolate 192, complete ge...   \n",
       "677928  YP_009147526.1           Erwinia phage phiEa2809, complete genome   \n",
       "\n",
       "                                                origanism   predict    is  \n",
       "29      ORGANISM  Mycobacterium phage Doug Viruses; Du...  0.900197  True  \n",
       "34      ORGANISM  Mycobacterium phage Doug Viruses; Du...  0.976232  True  \n",
       "38      ORGANISM  Mycobacterium phage Doug Viruses; Du...  0.972736  True  \n",
       "72      ORGANISM  Mycobacterium phage Doug Viruses; Du...  0.928504  True  \n",
       "114     ORGANISM  Aeromonas phage 44RR2.8t Viruses; Du...  0.918274  True  \n",
       "...                                                   ...       ...   ...  \n",
       "677842  ORGANISM  Haloarcula vallismortis tailed virus...  0.960302  True  \n",
       "677870  ORGANISM  Passion fruit yellow mosaic virus Vi...  0.983582  True  \n",
       "677875  ORGANISM  Klebsiella phage KP32_isolate 192 Vi...  0.926805  True  \n",
       "677910  ORGANISM  Klebsiella phage KP32_isolate 192 Vi...  0.942260  True  \n",
       "677928  ORGANISM  Erwinia phage phiEa2809 Viruses; Dup...  0.912912  True  \n",
       "\n",
       "[33929 rows x 5 columns]"
      ]
     },
     "execution_count": 56,
     "metadata": {},
     "output_type": "execute_result"
    }
   ],
   "source": [
    "subdf[subdf[\"description\"] != \"\"]"
   ]
  },
  {
   "cell_type": "code",
   "execution_count": 19,
   "metadata": {},
   "outputs": [
    {
     "name": "stdout",
     "output_type": "stream",
     "text": [
      "              precision    recall  f1-score   support\n",
      "\n",
      "     non-ion       0.98      0.95      0.96     10600\n",
      "         ion       0.95      0.98      0.97     10738\n",
      "\n",
      "    accuracy                           0.96     21338\n",
      "   macro avg       0.97      0.96      0.96     21338\n",
      "weighted avg       0.97      0.96      0.96     21338\n",
      "\n"
     ]
    }
   ],
   "source": [
    "from sklearn.metrics import classification_report\n",
    "pre = [i[0] for i in res] \n",
    "y = [i[1] for i in res]\n",
    "pre = torch.concatenate(pre).numpy() \n",
    "y = torch.concatenate(y).numpy() \n",
    "predict_label = (pre>0.5).astype(int) \n",
    "print(classification_report(y, predict_label, target_names=[\"non-ion\", \"ion\"]))"
   ]
  },
  {
   "cell_type": "code",
   "execution_count": 15,
   "metadata": {},
   "outputs": [],
   "source": [
    "import utils\n",
    "seqs = {}\n",
    "seqs[\"virus_seq\"] = utils.readDataset(\"/home/tyfei/datasets/ion_channel/Known_Virus_Ion_pro/all_Known_Virus_Ion_pro.rename_0.99.fasta\", trunc=1200)\n",
    "filtered = []\n",
    "labels = [] \n",
    "\n",
    "for i, tt in seqs.items():\n",
    "    labels.extend([i]*len(tt))\n",
    "    for name, seq in tt:\n",
    "        if \"*\" in seq:\n",
    "            filtered.append((name, seq[:-1].upper()))\n",
    "        else:\n",
    "            filtered.append((name, seq.upper()))"
   ]
  },
  {
   "cell_type": "code",
   "execution_count": 43,
   "metadata": {},
   "outputs": [
    {
     "name": "stderr",
     "output_type": "stream",
     "text": [
      "100%|██████████| 37/37 [00:06<00:00,  5.45it/s]\n"
     ]
    }
   ],
   "source": [
    "from tqdm import tqdm \n",
    "batch_labels, _, batch_tokens = batch_converter(filtered) \n",
    "allres = []\n",
    "clsmodel = clsmodel.cuda(1)\n",
    "batch_tokens = batch_tokens.to(\"cuda:1\")\n",
    "for i in tqdm(range(0,len(batch_tokens), 10)):\n",
    "    with torch.no_grad():\n",
    "        pre, _ = clsmodel(batch_tokens[i:i+10])\n",
    "        # token_representations = results[\"representations\"][12].cpu().numpy()\n",
    "        allres.append(pre.squeeze().cpu().numpy())\n",
    "allres = np.concatenate(allres, axis=0)"
   ]
  },
  {
   "cell_type": "code",
   "execution_count": 41,
   "metadata": {},
   "outputs": [
    {
     "data": {
      "text/plain": [
       "(array([ 73.,  24.,  14.,   5.,   6.,   6.,   9.,   5.,  15., 212.]),\n",
       " array([0.00142959, 0.10092105, 0.20041251, 0.29990396, 0.39939541,\n",
       "        0.49888688, 0.5983783 , 0.69786978, 0.79736125, 0.89685267,\n",
       "        0.99634415]),\n",
       " <BarContainer object of 10 artists>)"
      ]
     },
     "execution_count": 41,
     "metadata": {},
     "output_type": "execute_result"
    },
    {
     "data": {
      "image/png": "[encoded data removed]",
      "text/plain": [
       "<Figure size 640x480 with 1 Axes>"
      ]
     },
     "metadata": {},
     "output_type": "display_data"
    }
   ],
   "source": [
    "allres\n",
    "import matplotlib.pyplot as plt\n",
    "plt.hist(allres)"
   ]
  },
  {
   "cell_type": "code",
   "execution_count": 44,
   "metadata": {},
   "outputs": [
    {
     "data": {
      "text/plain": [
       "(array([100.,  21.,  28.,  20.,  11.,  10.,   4.,   7.,   3., 165.]),\n",
       " array([5.68135176e-04, 1.00103624e-01, 1.99639112e-01, 2.99174607e-01,\n",
       "        3.98710102e-01, 4.98245597e-01, 5.97781062e-01, 6.97316587e-01,\n",
       "        7.96852052e-01, 8.96387577e-01, 9.95923042e-01]),\n",
       " <BarContainer object of 10 artists>)"
      ]
     },
     "execution_count": 44,
     "metadata": {},
     "output_type": "execute_result"
    },
    {
     "data": {
      "image/png": "[encoded data removed]",
      "text/plain": [
       "<Figure size 640x480 with 1 Axes>"
      ]
     },
     "metadata": {},
     "output_type": "display_data"
    }
   ],
   "source": [
    "allres\n",
    "import matplotlib.pyplot as plt\n",
    "plt.hist(allres)"
   ]
  },
  {
   "cell_type": "code",
   "execution_count": 24,
   "metadata": {},
   "outputs": [
    {
     "data": {
      "text/plain": [
       "(array([ 93.,  10.,   9.,   9.,   8.,  19.,  18.,  34.,  45., 124.]),\n",
       " array([0.00586221, 0.10454156, 0.2032209 , 0.30190024, 0.40057957,\n",
       "        0.49925894, 0.59793824, 0.6966176 , 0.79529697, 0.89397627,\n",
       "        0.99265563]),\n",
       " <BarContainer object of 10 artists>)"
      ]
     },
     "execution_count": 24,
     "metadata": {},
     "output_type": "execute_result"
    },
    {
     "data": {
      "image/png": "[encoded data removed]",
      "text/plain": [
       "<Figure size 640x480 with 1 Axes>"
      ]
     },
     "metadata": {},
     "output_type": "display_data"
    }
   ],
   "source": [
    "allres\n",
    "import matplotlib.pyplot as plt\n",
    "plt.hist(allres)"
   ]
  },
  {
   "cell_type": "code",
   "execution_count": 17,
   "metadata": {},
   "outputs": [
    {
     "data": {
      "text/plain": [
       "(array([ 38.,  38.,  11.,   5.,   7.,  10.,  15.,  16.,  24., 205.]),\n",
       " array([0.00870654, 0.10700988, 0.20531322, 0.30361658, 0.40191993,\n",
       "        0.50022328, 0.5985266 , 0.69682997, 0.79513329, 0.89343667,\n",
       "        0.99173999]),\n",
       " <BarContainer object of 10 artists>)"
      ]
     },
     "execution_count": 17,
     "metadata": {},
     "output_type": "execute_result"
    },
    {
     "data": {
      "image/png": "[encoded data removed]",
      "text/plain": [
       "<Figure size 640x480 with 1 Axes>"
      ]
     },
     "metadata": {},
     "output_type": "display_data"
    }
   ],
   "source": [
    "allres\n",
    "import matplotlib.pyplot as plt\n",
    "plt.hist(allres)"
   ]
  },
  {
   "cell_type": "code",
   "execution_count": 25,
   "metadata": {},
   "outputs": [
    {
     "data": {
      "text/plain": [
       "(array([ 51.,  11.,   5.,  13.,   8.,  12.,   7.,   8.,  12., 242.]),\n",
       " array([0.00578006, 0.10388525, 0.20199043, 0.30009562, 0.39820081,\n",
       "        0.49630597, 0.59441119, 0.69251633, 0.79062152, 0.88872671,\n",
       "        0.9868319 ]),\n",
       " <BarContainer object of 10 artists>)"
      ]
     },
     "execution_count": 25,
     "metadata": {},
     "output_type": "execute_result"
    },
    {
     "data": {
      "image/png": "[encoded data removed]",
      "text/plain": [
       "<Figure size 640x480 with 1 Axes>"
      ]
     },
     "metadata": {},
     "output_type": "display_data"
    }
   ],
   "source": [
    "allres\n",
    "import matplotlib.pyplot as plt\n",
    "plt.hist(allres)"
   ]
  },
  {
   "cell_type": "code",
   "execution_count": null,
   "metadata": {},
   "outputs": [],
   "source": []
  }
 ],
 "metadata": {
  "kernelspec": {
   "display_name": "pytorch",
   "language": "python",
   "name": "python3"
  },
  "language_info": {
   "codemirror_mode": {
    "name": "ipython",
    "version": 3
   },
   "file_extension": ".py",
   "mimetype": "text/x-python",
   "name": "python",
   "nbconvert_exporter": "python",
   "pygments_lexer": "ipython3",
   "version": "3.10.14"
  }
 },
 "nbformat": 4,
 "nbformat_minor": 2
}
