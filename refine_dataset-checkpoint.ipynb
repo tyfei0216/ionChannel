{
 "cells": [
  {
   "cell_type": "code",
   "execution_count": 1,
   "metadata": {},
   "outputs": [],
   "source": [
    "import re \n",
    "s = r\"TM-(?P<start>\\d+)-(?P<end>\\d+)\""
   ]
  },
  {
   "cell_type": "code",
   "execution_count": 133,
   "metadata": {},
   "outputs": [
    {
     "data": {
      "text/plain": [
       "dict_keys(['randomseed', 'model', 'id', 'ori_seq', 'seq_t', 'structure_t', 'second_t', 'sasa_t', 'coordinates'])"
      ]
     },
     "execution_count": 133,
     "metadata": {},
     "output_type": "execute_result"
    }
   ],
   "source": [
    "import pickle\n",
    "import pandas as pd \n",
    "with open(\"/data/tyfei/datasets/ion_channel/Interpro_v2/kingdom/None3.pkl\", \"rb\") as f:\n",
    "    q = pickle.load(f)\n",
    "df = pd.DataFrame()\n",
    "q[0].keys()"
   ]
  },
  {
   "cell_type": "code",
   "execution_count": 134,
   "metadata": {},
   "outputs": [],
   "source": [
    "df = pd.read_excel(\"/data/tyfei/datasets/ion_channel/Interpro_v2/annotation_1106.xlsx\", index_col=0)\n",
    "df.columns\n",
    "df[\"Level1_Gating\"] = df[\"Level1_Gating\"].astype(str)\n",
    "df[\"Selectivity\"] = df[\"Selectivity\"].astype(str)\n",
    "df[\"Ion_type\"] = df[\"Ion_type\"].astype(str)\n",
    "df[\"Location\"] = df[\"Location\"].astype(str)\n",
    "# np.unique(df[\"Ion_pendoplasmic_reticulummeability_label\"]), np.unique(df[\"Location\"]), np.unique(df[\"Gating\"])"
   ]
  },
  {
   "cell_type": "code",
   "execution_count": 135,
   "metadata": {},
   "outputs": [
    {
     "name": "stdout",
     "output_type": "stream",
     "text": [
      "A0A5E8CKC3\n",
      "D8VMT4\n",
      "A0A2S2N560\n",
      "end\n"
     ]
    }
   ],
   "source": [
    "\n",
    "for i in q:\n",
    "\n",
    "    if i[\"id\"] in df.index:\n",
    "        t = df.loc[i[\"id\"]]\n",
    "        \n",
    "        thm = t[\"TMhelix Ranges\"] \n",
    "        s = r\"TM-(?P<start>\\d+)-(?P<end>\\d+)\" \n",
    "        res = re.findall(s, thm) \n",
    "        ranges = [] \n",
    "        for j in res:\n",
    "            ranges.append((int(j[0]), int(j[1])))\n",
    "        # print(ranges)\n",
    "        i[\"Tmranges\"] = ranges \n",
    "\n",
    "        \n",
    "        classes = {i: 0  for i in ['Voltage-gated','Ligand-gated','Mechanically-gated','Other gating',\n",
    "                                  'plasma membrane','endoplasmic reticulum','endosome','apical membrane','golgi','mitochondria','lysosome',\n",
    "                                   'K+','Ca2+','Na+','Mg2+','Cl-','H+','Zn2+','F-','Selectivity']}\n",
    "    \n",
    "        for gate in t[\"Level1_Gating\"].split(','):\n",
    "            # print(gate)\n",
    "            classes[gate] = 1 \n",
    "\n",
    "        if i[\"id\"]=='A0A3S3QP58':\n",
    "            print(t[\"Ion_type\"])\n",
    "        if t[\"Ion_type\"] == 'nan':\n",
    "            print(i[\"id\"])\n",
    "            for ion in ['K+','Ca2+','Na+','Mg2+','Cl-','H+','Zn2+','F-','Selectivity']:\n",
    "                # print(gate)\n",
    "                classes[ion] = None\n",
    "        else:\n",
    "            for ion in t[\"Ion_type\"].split(','):\n",
    "                # print(gate)\n",
    "                classes[ion] = 1\n",
    "            classes[\"Selectivity\"] = int(float(t[\"Selectivity\"]))\n",
    "            \n",
    "        for loc in t[\"Location\"].split(','):\n",
    "            # print(loc)\n",
    "            classes[loc] = 1 \n",
    "        i[\"classes\"] = classes\n",
    "        \n",
    "print(\"end\")"
   ]
  },
  {
   "cell_type": "code",
   "execution_count": 136,
   "metadata": {},
   "outputs": [
    {
     "name": "stdout",
     "output_type": "stream",
     "text": [
      "ID修改完成，并已写入新文件: /data/tyfei/datasets/ion_channel/Interpro_v2/kingdom/None3_label.pkl\n"
     ]
    }
   ],
   "source": [
    "# 将修改后的数据写入新文件\n",
    "output_file = \"/data/tyfei/datasets/ion_channel/Interpro_v2/kingdom/None3_label.pkl\"\n",
    "with open(output_file, \"wb\") as f:\n",
    "    pickle.dump(q, f)\n",
    "\n",
    "print(\"ID修改完成，并已写入新文件:\", output_file)\n"
   ]
  },
  {
   "cell_type": "code",
   "execution_count": 112,
   "metadata": {},
   "outputs": [
    {
     "data": {
      "text/plain": [
       "dict_keys(['randomseed', 'model', 'id', 'ori_seq', 'seq_t', 'structure_t', 'second_t', 'sasa_t', 'coordinates', 'Tmranges', 'classes'])"
      ]
     },
     "execution_count": 112,
     "metadata": {},
     "output_type": "execute_result"
    }
   ],
   "source": [
    "with open(output_file, \"rb\") as f:\n",
    "    q = pickle.load(f)\n",
    "df = pd.DataFrame()\n",
    "q[0].keys()"
   ]
  },
  {
   "cell_type": "code",
   "execution_count": null,
   "metadata": {},
   "outputs": [],
   "source": []
  }
 ],
 "metadata": {
  "kernelspec": {
   "display_name": "Python 3 (ipykernel)",
   "language": "python",
   "name": "python3"
  },
  "language_info": {
   "codemirror_mode": {
    "name": "ipython",
    "version": 3
   },
   "file_extension": ".py",
   "mimetype": "text/x-python",
   "name": "python",
   "nbconvert_exporter": "python",
   "pygments_lexer": "ipython3",
   "version": "3.10.14"
  }
 },
 "nbformat": 4,
 "nbformat_minor": 4
}
